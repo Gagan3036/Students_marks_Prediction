{
 "cells": [
  {
   "cell_type": "markdown",
   "id": "c89575be",
   "metadata": {
    "_cell_guid": "a40c7877-7932-4d3c-b5c9-13dd829f7af6",
    "_uuid": "d10855d6-9308-4245-aa94-188bc70eda56",
    "execution": {
     "iopub.execute_input": "2024-06-12T08:22:38.388348Z",
     "iopub.status.busy": "2024-06-12T08:22:38.387903Z",
     "iopub.status.idle": "2024-06-12T08:22:39.753121Z",
     "shell.execute_reply": "2024-06-12T08:22:39.751808Z",
     "shell.execute_reply.started": "2024-06-12T08:22:38.388316Z"
    },
    "papermill": {
     "duration": 0.019078,
     "end_time": "2024-06-13T07:10:06.492393",
     "exception": false,
     "start_time": "2024-06-13T07:10:06.473315",
     "status": "completed"
    },
    "tags": []
   },
   "source": [
    "# Students Percentage Prediction"
   ]
  },
  {
   "cell_type": "markdown",
   "id": "493c64fa",
   "metadata": {
    "_cell_guid": "9f85f7eb-9ff6-4b1b-89c3-4292c1cf0689",
    "_uuid": "8cad4802-3502-4e9a-8526-65b0e28191ec",
    "papermill": {
     "duration": 0.018946,
     "end_time": "2024-06-13T07:10:06.529883",
     "exception": false,
     "start_time": "2024-06-13T07:10:06.510937",
     "status": "completed"
    },
    "tags": []
   },
   "source": [
    "## Objective:\n",
    "#### To develop a model that predicts percentage of students based on their quiz, assignment, mid term marks ."
   ]
  },
  {
   "cell_type": "markdown",
   "id": "6d52a0c5",
   "metadata": {
    "_cell_guid": "f92bfd76-ad91-4cd6-a1d4-6a866664a3a5",
    "_uuid": "707f82fa-f6f4-462b-a2b5-dc8895015150",
    "papermill": {
     "duration": 0.017924,
     "end_time": "2024-06-13T07:10:06.565946",
     "exception": false,
     "start_time": "2024-06-13T07:10:06.548022",
     "status": "completed"
    },
    "tags": []
   },
   "source": [
    "## Import Library"
   ]
  },
  {
   "cell_type": "code",
   "execution_count": 1,
   "id": "7c1be26d",
   "metadata": {
    "_cell_guid": "6446f1d4-4bc7-402c-8d20-0ac721a64349",
    "_uuid": "2f9b6b12-f5d7-435d-ab86-48afd66020b4",
    "collapsed": false,
    "execution": {
     "iopub.execute_input": "2024-06-13T07:10:06.605120Z",
     "iopub.status.busy": "2024-06-13T07:10:06.604328Z",
     "iopub.status.idle": "2024-06-13T07:10:07.269879Z",
     "shell.execute_reply": "2024-06-13T07:10:07.269066Z"
    },
    "jupyter": {
     "outputs_hidden": false
    },
    "papermill": {
     "duration": 0.687896,
     "end_time": "2024-06-13T07:10:07.272194",
     "exception": false,
     "start_time": "2024-06-13T07:10:06.584298",
     "status": "completed"
    },
    "tags": []
   },
   "outputs": [],
   "source": [
    "import pandas as pd"
   ]
  },
  {
   "cell_type": "code",
   "execution_count": 2,
   "id": "2bc9b102",
   "metadata": {
    "_cell_guid": "2845ff06-5b94-4d99-98b7-1ad8877ef905",
    "_uuid": "d19fd2ec-09a5-4881-b1ac-7c5cd3da1feb",
    "collapsed": false,
    "execution": {
     "iopub.execute_input": "2024-06-13T07:10:07.311219Z",
     "iopub.status.busy": "2024-06-13T07:10:07.310341Z",
     "iopub.status.idle": "2024-06-13T07:10:19.900555Z",
     "shell.execute_reply": "2024-06-13T07:10:19.899079Z"
    },
    "jupyter": {
     "outputs_hidden": false
    },
    "papermill": {
     "duration": 12.611754,
     "end_time": "2024-06-13T07:10:19.902695",
     "exception": false,
     "start_time": "2024-06-13T07:10:07.290941",
     "status": "completed"
    },
    "tags": []
   },
   "outputs": [
    {
     "name": "stdout",
     "output_type": "stream",
     "text": [
      "pip install xlrd complete\n"
     ]
    }
   ],
   "source": [
    "!pip install --quiet xlrd\n",
    "print('pip install xlrd complete')"
   ]
  },
  {
   "cell_type": "markdown",
   "id": "4f592d61",
   "metadata": {
    "_cell_guid": "50dd1009-dd4a-4a58-8edd-831154a9f70f",
    "_uuid": "b97e853b-115b-440a-8050-700afaf734b2",
    "papermill": {
     "duration": 0.018199,
     "end_time": "2024-06-13T07:10:19.939604",
     "exception": false,
     "start_time": "2024-06-13T07:10:19.921405",
     "status": "completed"
    },
    "tags": []
   },
   "source": [
    "## Load Data"
   ]
  },
  {
   "cell_type": "code",
   "execution_count": 3,
   "id": "7cb7b8e2",
   "metadata": {
    "_cell_guid": "630b2228-dd5f-4a58-af8c-de543879655f",
    "_uuid": "80f59aaf-58f3-449b-86ce-4a608471d74b",
    "collapsed": false,
    "execution": {
     "iopub.execute_input": "2024-06-13T07:10:19.978339Z",
     "iopub.status.busy": "2024-06-13T07:10:19.977973Z",
     "iopub.status.idle": "2024-06-13T07:10:19.982676Z",
     "shell.execute_reply": "2024-06-13T07:10:19.981760Z"
    },
    "jupyter": {
     "outputs_hidden": false
    },
    "papermill": {
     "duration": 0.026505,
     "end_time": "2024-06-13T07:10:19.984597",
     "exception": false,
     "start_time": "2024-06-13T07:10:19.958092",
     "status": "completed"
    },
    "tags": []
   },
   "outputs": [],
   "source": [
    "DATA = '/kaggle/input/university-students-marks-sheet/Univeristy_Results.xls'"
   ]
  },
  {
   "cell_type": "markdown",
   "id": "3daed585",
   "metadata": {
    "_cell_guid": "2601d532-6ff3-4270-8b59-e793edf8a0d3",
    "_uuid": "bc0f0d29-ce67-4c26-b4a1-f1c41a5214ac",
    "execution": {
     "iopub.execute_input": "2024-06-13T03:06:50.097715Z",
     "iopub.status.busy": "2024-06-13T03:06:50.097243Z",
     "iopub.status.idle": "2024-06-13T03:06:50.870002Z",
     "shell.execute_reply": "2024-06-13T03:06:50.868737Z",
     "shell.execute_reply.started": "2024-06-13T03:06:50.097675Z"
    },
    "jupyter": {
     "outputs_hidden": false
    },
    "papermill": {
     "duration": 0.018338,
     "end_time": "2024-06-13T07:10:20.021689",
     "exception": false,
     "start_time": "2024-06-13T07:10:20.003351",
     "status": "completed"
    },
    "tags": []
   },
   "source": [
    "**Chacking number of sheets present in the excel file**"
   ]
  },
  {
   "cell_type": "code",
   "execution_count": 4,
   "id": "0f1ac963",
   "metadata": {
    "execution": {
     "iopub.execute_input": "2024-06-13T07:10:20.060388Z",
     "iopub.status.busy": "2024-06-13T07:10:20.059516Z",
     "iopub.status.idle": "2024-06-13T07:10:20.630994Z",
     "shell.execute_reply": "2024-06-13T07:10:20.630189Z"
    },
    "papermill": {
     "duration": 0.593332,
     "end_time": "2024-06-13T07:10:20.633348",
     "exception": false,
     "start_time": "2024-06-13T07:10:20.040016",
     "status": "completed"
    },
    "tags": []
   },
   "outputs": [],
   "source": [
    "# Use ExcelFile to load the file\n",
    "\n",
    "excel_data = pd.ExcelFile(DATA)"
   ]
  },
  {
   "cell_type": "code",
   "execution_count": 5,
   "id": "d52f5ec9",
   "metadata": {
    "execution": {
     "iopub.execute_input": "2024-06-13T07:10:20.672517Z",
     "iopub.status.busy": "2024-06-13T07:10:20.672145Z",
     "iopub.status.idle": "2024-06-13T07:10:20.676558Z",
     "shell.execute_reply": "2024-06-13T07:10:20.675639Z"
    },
    "papermill": {
     "duration": 0.026428,
     "end_time": "2024-06-13T07:10:20.678613",
     "exception": false,
     "start_time": "2024-06-13T07:10:20.652185",
     "status": "completed"
    },
    "tags": []
   },
   "outputs": [],
   "source": [
    "# Get the sheet names\n",
    "\n",
    "sheet_names = excel_data.sheet_names"
   ]
  },
  {
   "cell_type": "code",
   "execution_count": 6,
   "id": "b5f93a56",
   "metadata": {
    "execution": {
     "iopub.execute_input": "2024-06-13T07:10:20.717782Z",
     "iopub.status.busy": "2024-06-13T07:10:20.717409Z",
     "iopub.status.idle": "2024-06-13T07:10:20.722126Z",
     "shell.execute_reply": "2024-06-13T07:10:20.721204Z"
    },
    "papermill": {
     "duration": 0.026985,
     "end_time": "2024-06-13T07:10:20.724498",
     "exception": false,
     "start_time": "2024-06-13T07:10:20.697513",
     "status": "completed"
    },
    "tags": []
   },
   "outputs": [
    {
     "name": "stdout",
     "output_type": "stream",
     "text": [
      "Available sheet names: ['Table', 'Sessional', 'Final']\n"
     ]
    }
   ],
   "source": [
    "# Print the sheet names\n",
    "\n",
    "print(\"Available sheet names:\", sheet_names)"
   ]
  },
  {
   "cell_type": "code",
   "execution_count": 7,
   "id": "914b107f",
   "metadata": {
    "execution": {
     "iopub.execute_input": "2024-06-13T07:10:20.817350Z",
     "iopub.status.busy": "2024-06-13T07:10:20.816288Z",
     "iopub.status.idle": "2024-06-13T07:10:22.674801Z",
     "shell.execute_reply": "2024-06-13T07:10:22.673753Z"
    },
    "papermill": {
     "duration": 1.881237,
     "end_time": "2024-06-13T07:10:22.677188",
     "exception": false,
     "start_time": "2024-06-13T07:10:20.795951",
     "status": "completed"
    },
    "tags": []
   },
   "outputs": [],
   "source": [
    "df_tabel = pd.read_excel(io=DATA, sheet_name='Table', engine='xlrd')\n",
    "\n",
    "df_sess = pd.read_excel(io=DATA, sheet_name='Sessional', engine='xlrd')\n",
    "\n",
    "df_final = pd.read_excel(io=DATA, sheet_name='Final', engine='xlrd')"
   ]
  },
  {
   "cell_type": "markdown",
   "id": "1ffa543c",
   "metadata": {
    "papermill": {
     "duration": 0.01847,
     "end_time": "2024-06-13T07:10:22.714797",
     "exception": false,
     "start_time": "2024-06-13T07:10:22.696327",
     "status": "completed"
    },
    "tags": []
   },
   "source": [
    "# Analyzing the data"
   ]
  },
  {
   "cell_type": "code",
   "execution_count": 8,
   "id": "cc7cc842",
   "metadata": {
    "execution": {
     "iopub.execute_input": "2024-06-13T07:10:22.755091Z",
     "iopub.status.busy": "2024-06-13T07:10:22.754377Z",
     "iopub.status.idle": "2024-06-13T07:10:22.774751Z",
     "shell.execute_reply": "2024-06-13T07:10:22.773814Z"
    },
    "papermill": {
     "duration": 0.042592,
     "end_time": "2024-06-13T07:10:22.776917",
     "exception": false,
     "start_time": "2024-06-13T07:10:22.734325",
     "status": "completed"
    },
    "tags": []
   },
   "outputs": [
    {
     "data": {
      "text/html": [
       "<div>\n",
       "<style scoped>\n",
       "    .dataframe tbody tr th:only-of-type {\n",
       "        vertical-align: middle;\n",
       "    }\n",
       "\n",
       "    .dataframe tbody tr th {\n",
       "        vertical-align: top;\n",
       "    }\n",
       "\n",
       "    .dataframe thead th {\n",
       "        text-align: right;\n",
       "    }\n",
       "</style>\n",
       "<table border=\"1\" class=\"dataframe\">\n",
       "  <thead>\n",
       "    <tr style=\"text-align: right;\">\n",
       "      <th></th>\n",
       "      <th>Table</th>\n",
       "      <th>Unnamed: 1</th>\n",
       "      <th>Unnamed: 2</th>\n",
       "      <th>Unnamed: 3</th>\n",
       "      <th>Unnamed: 4</th>\n",
       "    </tr>\n",
       "  </thead>\n",
       "  <tbody>\n",
       "    <tr>\n",
       "      <th>0</th>\n",
       "      <td>Marks</td>\n",
       "      <td>GP</td>\n",
       "      <td>Grade</td>\n",
       "      <td>NaN</td>\n",
       "      <td>NaN</td>\n",
       "    </tr>\n",
       "    <tr>\n",
       "      <th>1</th>\n",
       "      <td>-</td>\n",
       "      <td>0</td>\n",
       "      <td>F</td>\n",
       "      <td>-0.003</td>\n",
       "      <td>Zero point zero</td>\n",
       "    </tr>\n",
       "    <tr>\n",
       "      <th>2</th>\n",
       "      <td>0</td>\n",
       "      <td>0</td>\n",
       "      <td>F</td>\n",
       "      <td>-0.003</td>\n",
       "      <td>Zero point zero</td>\n",
       "    </tr>\n",
       "    <tr>\n",
       "      <th>3</th>\n",
       "      <td>*1</td>\n",
       "      <td>0</td>\n",
       "      <td>F</td>\n",
       "      <td>-0.002</td>\n",
       "      <td>Zero point zero</td>\n",
       "    </tr>\n",
       "    <tr>\n",
       "      <th>4</th>\n",
       "      <td>*2</td>\n",
       "      <td>0</td>\n",
       "      <td>F</td>\n",
       "      <td>-0.001</td>\n",
       "      <td>Zero point zero</td>\n",
       "    </tr>\n",
       "  </tbody>\n",
       "</table>\n",
       "</div>"
      ],
      "text/plain": [
       "    Table Unnamed: 1 Unnamed: 2  Unnamed: 3       Unnamed: 4\n",
       "0  Marks          GP      Grade         NaN              NaN\n",
       "1       -          0          F      -0.003  Zero point zero\n",
       "2       0          0          F      -0.003  Zero point zero\n",
       "3      *1          0          F      -0.002  Zero point zero\n",
       "4      *2          0          F      -0.001  Zero point zero"
      ]
     },
     "execution_count": 8,
     "metadata": {},
     "output_type": "execute_result"
    }
   ],
   "source": [
    "df_tabel.head()"
   ]
  },
  {
   "cell_type": "code",
   "execution_count": 9,
   "id": "f30911a6",
   "metadata": {
    "_cell_guid": "c3e6bc4f-dae3-4775-980e-b9b2582e97dd",
    "_uuid": "3683c3d4-95da-40bf-9521-68b52c66f7f8",
    "collapsed": false,
    "execution": {
     "iopub.execute_input": "2024-06-13T07:10:22.818260Z",
     "iopub.status.busy": "2024-06-13T07:10:22.817528Z",
     "iopub.status.idle": "2024-06-13T07:10:22.824850Z",
     "shell.execute_reply": "2024-06-13T07:10:22.823964Z"
    },
    "jupyter": {
     "outputs_hidden": false
    },
    "papermill": {
     "duration": 0.029574,
     "end_time": "2024-06-13T07:10:22.826940",
     "exception": false,
     "start_time": "2024-06-13T07:10:22.797366",
     "status": "completed"
    },
    "tags": []
   },
   "outputs": [
    {
     "data": {
      "text/plain": [
       "<bound method IndexOpsMixin.value_counts of 0        Grade\n",
       "1            F\n",
       "2            F\n",
       "3            F\n",
       "4            F\n",
       "         ...  \n",
       "55002      NaN\n",
       "55003      NaN\n",
       "55004      NaN\n",
       "55005      NaN\n",
       "55006      NaN\n",
       "Name: Unnamed: 2, Length: 55007, dtype: object>"
      ]
     },
     "execution_count": 9,
     "metadata": {},
     "output_type": "execute_result"
    }
   ],
   "source": [
    "df_tabel['Unnamed: 2'].value_counts"
   ]
  },
  {
   "cell_type": "markdown",
   "id": "4c110fda",
   "metadata": {
    "papermill": {
     "duration": 0.018872,
     "end_time": "2024-06-13T07:10:22.865072",
     "exception": false,
     "start_time": "2024-06-13T07:10:22.846200",
     "status": "completed"
    },
    "tags": []
   },
   "source": [
    "**There no as such feature are looking in tabel,**\n",
    "**Let's check others.**"
   ]
  },
  {
   "cell_type": "code",
   "execution_count": 10,
   "id": "7a605256",
   "metadata": {
    "execution": {
     "iopub.execute_input": "2024-06-13T07:10:22.905102Z",
     "iopub.status.busy": "2024-06-13T07:10:22.904516Z",
     "iopub.status.idle": "2024-06-13T07:10:22.917877Z",
     "shell.execute_reply": "2024-06-13T07:10:22.916969Z"
    },
    "papermill": {
     "duration": 0.036161,
     "end_time": "2024-06-13T07:10:22.920396",
     "exception": false,
     "start_time": "2024-06-13T07:10:22.884235",
     "status": "completed"
    },
    "tags": []
   },
   "outputs": [
    {
     "data": {
      "text/html": [
       "<div>\n",
       "<style scoped>\n",
       "    .dataframe tbody tr th:only-of-type {\n",
       "        vertical-align: middle;\n",
       "    }\n",
       "\n",
       "    .dataframe tbody tr th {\n",
       "        vertical-align: top;\n",
       "    }\n",
       "\n",
       "    .dataframe thead th {\n",
       "        text-align: right;\n",
       "    }\n",
       "</style>\n",
       "<table border=\"1\" class=\"dataframe\">\n",
       "  <thead>\n",
       "    <tr style=\"text-align: right;\">\n",
       "      <th></th>\n",
       "      <th>Roll No</th>\n",
       "      <th>Name</th>\n",
       "      <th>Quiz 15</th>\n",
       "      <th>Unnamed: 3</th>\n",
       "      <th>Unnamed: 4</th>\n",
       "      <th>Assignments 15</th>\n",
       "      <th>Unnamed: 6</th>\n",
       "      <th>Unnamed: 7</th>\n",
       "      <th>Mid Term</th>\n",
       "      <th>Q+A+Mid</th>\n",
       "    </tr>\n",
       "  </thead>\n",
       "  <tbody>\n",
       "    <tr>\n",
       "      <th>0</th>\n",
       "      <td>NaN</td>\n",
       "      <td>NaN</td>\n",
       "      <td>Quiz 01</td>\n",
       "      <td>Quiz 02</td>\n",
       "      <td>AVG (15)</td>\n",
       "      <td>Assig. 01</td>\n",
       "      <td>Assig.02</td>\n",
       "      <td>AVG (15)</td>\n",
       "      <td>45</td>\n",
       "      <td>Total 75</td>\n",
       "    </tr>\n",
       "    <tr>\n",
       "      <th>1</th>\n",
       "      <td>1</td>\n",
       "      <td>Ashir Mehfooz</td>\n",
       "      <td>14</td>\n",
       "      <td>14</td>\n",
       "      <td>14</td>\n",
       "      <td>13</td>\n",
       "      <td>13</td>\n",
       "      <td>13</td>\n",
       "      <td>41</td>\n",
       "      <td>68</td>\n",
       "    </tr>\n",
       "    <tr>\n",
       "      <th>2</th>\n",
       "      <td>2</td>\n",
       "      <td>Atif Raftad</td>\n",
       "      <td>4</td>\n",
       "      <td>10</td>\n",
       "      <td>7</td>\n",
       "      <td>4</td>\n",
       "      <td>5</td>\n",
       "      <td>4.5</td>\n",
       "      <td>30</td>\n",
       "      <td>41.5</td>\n",
       "    </tr>\n",
       "    <tr>\n",
       "      <th>3</th>\n",
       "      <td>3</td>\n",
       "      <td>Saiqa Aziz</td>\n",
       "      <td>15</td>\n",
       "      <td>11</td>\n",
       "      <td>13</td>\n",
       "      <td>14</td>\n",
       "      <td>13</td>\n",
       "      <td>13.5</td>\n",
       "      <td>34</td>\n",
       "      <td>60.5</td>\n",
       "    </tr>\n",
       "    <tr>\n",
       "      <th>4</th>\n",
       "      <td>8</td>\n",
       "      <td>Ozair Minhas</td>\n",
       "      <td>6</td>\n",
       "      <td>5</td>\n",
       "      <td>5.5</td>\n",
       "      <td>4</td>\n",
       "      <td>6</td>\n",
       "      <td>5</td>\n",
       "      <td>12</td>\n",
       "      <td>22.5</td>\n",
       "    </tr>\n",
       "  </tbody>\n",
       "</table>\n",
       "</div>"
      ],
      "text/plain": [
       "  Roll No           Name Quiz 15  Unnamed: 3 Unnamed: 4 Assignments 15   \\\n",
       "0     NaN            NaN  Quiz 01    Quiz 02   AVG (15)       Assig. 01   \n",
       "1       1  Ashir Mehfooz       14         14         14              13   \n",
       "2       2    Atif Raftad        4         10          7               4   \n",
       "3       3     Saiqa Aziz       15         11         13              14   \n",
       "4       8   Ozair Minhas        6          5        5.5               4   \n",
       "\n",
       "  Unnamed: 6 Unnamed: 7 Mid Term    Q+A+Mid  \n",
       "0   Assig.02   AVG (15)       45   Total 75  \n",
       "1         13         13       41         68  \n",
       "2          5        4.5       30       41.5  \n",
       "3         13       13.5       34       60.5  \n",
       "4          6          5       12       22.5  "
      ]
     },
     "execution_count": 10,
     "metadata": {},
     "output_type": "execute_result"
    }
   ],
   "source": [
    "df_sess.head()"
   ]
  },
  {
   "cell_type": "code",
   "execution_count": 11,
   "id": "6a9ddcb8",
   "metadata": {
    "execution": {
     "iopub.execute_input": "2024-06-13T07:10:22.961246Z",
     "iopub.status.busy": "2024-06-13T07:10:22.960385Z",
     "iopub.status.idle": "2024-06-13T07:10:22.973933Z",
     "shell.execute_reply": "2024-06-13T07:10:22.973000Z"
    },
    "papermill": {
     "duration": 0.036183,
     "end_time": "2024-06-13T07:10:22.976057",
     "exception": false,
     "start_time": "2024-06-13T07:10:22.939874",
     "status": "completed"
    },
    "tags": []
   },
   "outputs": [
    {
     "data": {
      "text/html": [
       "<div>\n",
       "<style scoped>\n",
       "    .dataframe tbody tr th:only-of-type {\n",
       "        vertical-align: middle;\n",
       "    }\n",
       "\n",
       "    .dataframe tbody tr th {\n",
       "        vertical-align: top;\n",
       "    }\n",
       "\n",
       "    .dataframe thead th {\n",
       "        text-align: right;\n",
       "    }\n",
       "</style>\n",
       "<table border=\"1\" class=\"dataframe\">\n",
       "  <thead>\n",
       "    <tr style=\"text-align: right;\">\n",
       "      <th></th>\n",
       "      <th>Roll No.</th>\n",
       "      <th>Name of Student</th>\n",
       "      <th>Total Marks (150)</th>\n",
       "      <th>Unnamed: 3</th>\n",
       "      <th>Unnamed: 4</th>\n",
       "      <th>Marks in Words</th>\n",
       "      <th>%</th>\n",
       "      <th>Letter Grade</th>\n",
       "      <th>GP</th>\n",
       "    </tr>\n",
       "  </thead>\n",
       "  <tbody>\n",
       "    <tr>\n",
       "      <th>0</th>\n",
       "      <td>NaN</td>\n",
       "      <td>NaN</td>\n",
       "      <td>Sessional (75)</td>\n",
       "      <td>Terminal (75)</td>\n",
       "      <td>Total 150</td>\n",
       "      <td>NaN</td>\n",
       "      <td>NaN</td>\n",
       "      <td>NaN</td>\n",
       "      <td>NaN</td>\n",
       "    </tr>\n",
       "    <tr>\n",
       "      <th>1</th>\n",
       "      <td>1</td>\n",
       "      <td>Ashir Mehfooz</td>\n",
       "      <td>68</td>\n",
       "      <td>55</td>\n",
       "      <td>123</td>\n",
       "      <td>One Hundred &amp; Twenty Three Only</td>\n",
       "      <td>82.000000</td>\n",
       "      <td>A</td>\n",
       "      <td>4.0</td>\n",
       "    </tr>\n",
       "    <tr>\n",
       "      <th>2</th>\n",
       "      <td>2</td>\n",
       "      <td>Atif Raftad</td>\n",
       "      <td>41.5</td>\n",
       "      <td>45</td>\n",
       "      <td>86.5</td>\n",
       "      <td>Eighty Six Pont Five Zero</td>\n",
       "      <td>57.666667</td>\n",
       "      <td>C</td>\n",
       "      <td>2.5</td>\n",
       "    </tr>\n",
       "    <tr>\n",
       "      <th>3</th>\n",
       "      <td>3</td>\n",
       "      <td>Saiqa Aziz</td>\n",
       "      <td>60.5</td>\n",
       "      <td>58</td>\n",
       "      <td>118.5</td>\n",
       "      <td>One Hundred &amp; Eighteen Pont Five Zero</td>\n",
       "      <td>79.000000</td>\n",
       "      <td>B+</td>\n",
       "      <td>3.9</td>\n",
       "    </tr>\n",
       "    <tr>\n",
       "      <th>4</th>\n",
       "      <td>8</td>\n",
       "      <td>Ozair Minhas</td>\n",
       "      <td>22.5</td>\n",
       "      <td>44</td>\n",
       "      <td>66.5</td>\n",
       "      <td>Sixty Six Pont Five Zero</td>\n",
       "      <td>44.333333</td>\n",
       "      <td>F</td>\n",
       "      <td>0.0</td>\n",
       "    </tr>\n",
       "  </tbody>\n",
       "</table>\n",
       "</div>"
      ],
      "text/plain": [
       "  Roll No. Name of Student Total Marks (150)     Unnamed: 3 Unnamed: 4  \\\n",
       "0      NaN             NaN    Sessional (75)  Terminal (75)  Total 150   \n",
       "1        1   Ashir Mehfooz                68             55        123   \n",
       "2        2     Atif Raftad              41.5             45       86.5   \n",
       "3        3      Saiqa Aziz              60.5             58      118.5   \n",
       "4        8    Ozair Minhas              22.5             44       66.5   \n",
       "\n",
       "                          Marks in Words          % Letter Grade   GP  \n",
       "0                                    NaN        NaN          NaN  NaN  \n",
       "1        One Hundred & Twenty Three Only  82.000000            A  4.0  \n",
       "2              Eighty Six Pont Five Zero  57.666667            C  2.5  \n",
       "3  One Hundred & Eighteen Pont Five Zero  79.000000           B+  3.9  \n",
       "4               Sixty Six Pont Five Zero  44.333333            F  0.0  "
      ]
     },
     "execution_count": 11,
     "metadata": {},
     "output_type": "execute_result"
    }
   ],
   "source": [
    "df_final.head()"
   ]
  },
  {
   "cell_type": "markdown",
   "id": "973b70d1",
   "metadata": {
    "papermill": {
     "duration": 0.020312,
     "end_time": "2024-06-13T07:10:23.016402",
     "exception": false,
     "start_time": "2024-06-13T07:10:22.996090",
     "status": "completed"
    },
    "tags": []
   },
   "source": [
    "**We can see many features in sessional and final sheet so we will be using that.**"
   ]
  },
  {
   "cell_type": "markdown",
   "id": "a33858d5",
   "metadata": {
    "papermill": {
     "duration": 0.019439,
     "end_time": "2024-06-13T07:10:23.055534",
     "exception": false,
     "start_time": "2024-06-13T07:10:23.036095",
     "status": "completed"
    },
    "tags": []
   },
   "source": [
    "## Data Description:\n",
    "**There are following thing in the data frame that should be removed or replaced in order to make a prediction model.**\n",
    "\n",
    "> 1. Unlabeled Columns, we have to label it.\n",
    "> 2. Unnecessary Columns. i.e, name columns. \n",
    "> 3. Empty rows.\n",
    "> 4. leading/trailing whitespaces.\n",
    "> 5. Replce the missing values."
   ]
  },
  {
   "cell_type": "code",
   "execution_count": 12,
   "id": "e07feb35",
   "metadata": {
    "_cell_guid": "d7f978c2-78f8-459f-ad52-82721ee22ee5",
    "_uuid": "97ff4554-03c6-4ccf-b763-3fff5ad7eacc",
    "collapsed": false,
    "execution": {
     "iopub.execute_input": "2024-06-13T07:10:23.096771Z",
     "iopub.status.busy": "2024-06-13T07:10:23.096065Z",
     "iopub.status.idle": "2024-06-13T07:10:23.102227Z",
     "shell.execute_reply": "2024-06-13T07:10:23.101324Z"
    },
    "jupyter": {
     "outputs_hidden": false
    },
    "papermill": {
     "duration": 0.028976,
     "end_time": "2024-06-13T07:10:23.104181",
     "exception": false,
     "start_time": "2024-06-13T07:10:23.075205",
     "status": "completed"
    },
    "tags": []
   },
   "outputs": [
    {
     "data": {
      "text/plain": [
       "Index(['Roll No', 'Name', 'Quiz 15 ', 'Unnamed: 3', 'Unnamed: 4',\n",
       "       'Assignments 15 ', 'Unnamed: 6', 'Unnamed: 7', 'Mid Term', 'Q+A+Mid'],\n",
       "      dtype='object')"
      ]
     },
     "execution_count": 12,
     "metadata": {},
     "output_type": "execute_result"
    }
   ],
   "source": [
    "df_sess.columns"
   ]
  },
  {
   "cell_type": "code",
   "execution_count": 13,
   "id": "87306426",
   "metadata": {
    "execution": {
     "iopub.execute_input": "2024-06-13T07:10:23.145402Z",
     "iopub.status.busy": "2024-06-13T07:10:23.144773Z",
     "iopub.status.idle": "2024-06-13T07:10:23.151138Z",
     "shell.execute_reply": "2024-06-13T07:10:23.150248Z"
    },
    "papermill": {
     "duration": 0.029223,
     "end_time": "2024-06-13T07:10:23.153194",
     "exception": false,
     "start_time": "2024-06-13T07:10:23.123971",
     "status": "completed"
    },
    "tags": []
   },
   "outputs": [
    {
     "data": {
      "text/plain": [
       "Index(['Roll No.', 'Name of Student', 'Total Marks (150)', 'Unnamed: 3',\n",
       "       'Unnamed: 4', 'Marks in Words', '%', 'Letter Grade', 'GP'],\n",
       "      dtype='object')"
      ]
     },
     "execution_count": 13,
     "metadata": {},
     "output_type": "execute_result"
    }
   ],
   "source": [
    "df_final.columns"
   ]
  },
  {
   "cell_type": "code",
   "execution_count": 14,
   "id": "8d42b146",
   "metadata": {
    "_cell_guid": "252607da-84eb-4ddc-929f-5d0be7c95bbe",
    "_uuid": "f05e723e-66d3-48cc-b0dd-899c33f66183",
    "collapsed": false,
    "execution": {
     "iopub.execute_input": "2024-06-13T07:10:23.194842Z",
     "iopub.status.busy": "2024-06-13T07:10:23.194385Z",
     "iopub.status.idle": "2024-06-13T07:10:23.199915Z",
     "shell.execute_reply": "2024-06-13T07:10:23.198961Z"
    },
    "jupyter": {
     "outputs_hidden": false
    },
    "papermill": {
     "duration": 0.02882,
     "end_time": "2024-06-13T07:10:23.202044",
     "exception": false,
     "start_time": "2024-06-13T07:10:23.173224",
     "status": "completed"
    },
    "tags": []
   },
   "outputs": [],
   "source": [
    "df_sess.columns = ['Roll No', 'Name', 'Quize_01', 'Quize_02', 'Quize_Avg', \n",
    "                   'Ass_01', 'Ass_02', 'Ass_Avg', 'Mid_Term', 'Final_Marks']\n",
    "\n",
    "df_final.columns = ['Roll No', 'Name', 'Sess_Sum', 'Terminal', 'Total_150', \n",
    "                    'Marks_in_Words', 'Percentage', 'Grade', 'GP']"
   ]
  },
  {
   "cell_type": "code",
   "execution_count": 15,
   "id": "7fe04d93",
   "metadata": {
    "_cell_guid": "f6fa9d26-5247-4898-8215-ed12c9bae9c2",
    "_uuid": "07d48140-665d-41fb-ba46-6f9f43831591",
    "collapsed": false,
    "execution": {
     "iopub.execute_input": "2024-06-13T07:10:23.243586Z",
     "iopub.status.busy": "2024-06-13T07:10:23.242991Z",
     "iopub.status.idle": "2024-06-13T07:10:23.248600Z",
     "shell.execute_reply": "2024-06-13T07:10:23.247647Z"
    },
    "jupyter": {
     "outputs_hidden": false
    },
    "papermill": {
     "duration": 0.029097,
     "end_time": "2024-06-13T07:10:23.251179",
     "exception": false,
     "start_time": "2024-06-13T07:10:23.222082",
     "status": "completed"
    },
    "tags": []
   },
   "outputs": [
    {
     "name": "stdout",
     "output_type": "stream",
     "text": [
      "Index(['Roll No', 'Name', 'Quize_01', 'Quize_02', 'Quize_Avg', 'Ass_01',\n",
      "       'Ass_02', 'Ass_Avg', 'Mid_Term', 'Final_Marks'],\n",
      "      dtype='object')\n",
      "Index(['Roll No', 'Name', 'Sess_Sum', 'Terminal', 'Total_150',\n",
      "       'Marks_in_Words', 'Percentage', 'Grade', 'GP'],\n",
      "      dtype='object')\n"
     ]
    }
   ],
   "source": [
    "print(df_sess.columns)\n",
    "\n",
    "print(df_final.columns)"
   ]
  },
  {
   "cell_type": "code",
   "execution_count": 16,
   "id": "b154e2ba",
   "metadata": {
    "_cell_guid": "bc70a87b-e18c-4f8e-8254-cccce501a5fc",
    "_uuid": "b42f0fa5-8e34-468d-a7a7-c5521e7b3c59",
    "collapsed": false,
    "execution": {
     "iopub.execute_input": "2024-06-13T07:10:23.293058Z",
     "iopub.status.busy": "2024-06-13T07:10:23.292436Z",
     "iopub.status.idle": "2024-06-13T07:10:23.306054Z",
     "shell.execute_reply": "2024-06-13T07:10:23.305167Z"
    },
    "jupyter": {
     "outputs_hidden": false
    },
    "papermill": {
     "duration": 0.03689,
     "end_time": "2024-06-13T07:10:23.308115",
     "exception": false,
     "start_time": "2024-06-13T07:10:23.271225",
     "status": "completed"
    },
    "tags": []
   },
   "outputs": [
    {
     "data": {
      "text/html": [
       "<div>\n",
       "<style scoped>\n",
       "    .dataframe tbody tr th:only-of-type {\n",
       "        vertical-align: middle;\n",
       "    }\n",
       "\n",
       "    .dataframe tbody tr th {\n",
       "        vertical-align: top;\n",
       "    }\n",
       "\n",
       "    .dataframe thead th {\n",
       "        text-align: right;\n",
       "    }\n",
       "</style>\n",
       "<table border=\"1\" class=\"dataframe\">\n",
       "  <thead>\n",
       "    <tr style=\"text-align: right;\">\n",
       "      <th></th>\n",
       "      <th>Roll No</th>\n",
       "      <th>Name</th>\n",
       "      <th>Quize_01</th>\n",
       "      <th>Quize_02</th>\n",
       "      <th>Quize_Avg</th>\n",
       "      <th>Ass_01</th>\n",
       "      <th>Ass_02</th>\n",
       "      <th>Ass_Avg</th>\n",
       "      <th>Mid_Term</th>\n",
       "      <th>Final_Marks</th>\n",
       "    </tr>\n",
       "  </thead>\n",
       "  <tbody>\n",
       "    <tr>\n",
       "      <th>0</th>\n",
       "      <td>NaN</td>\n",
       "      <td>NaN</td>\n",
       "      <td>Quiz 01</td>\n",
       "      <td>Quiz 02</td>\n",
       "      <td>AVG (15)</td>\n",
       "      <td>Assig. 01</td>\n",
       "      <td>Assig.02</td>\n",
       "      <td>AVG (15)</td>\n",
       "      <td>45</td>\n",
       "      <td>Total 75</td>\n",
       "    </tr>\n",
       "    <tr>\n",
       "      <th>1</th>\n",
       "      <td>1</td>\n",
       "      <td>Ashir Mehfooz</td>\n",
       "      <td>14</td>\n",
       "      <td>14</td>\n",
       "      <td>14</td>\n",
       "      <td>13</td>\n",
       "      <td>13</td>\n",
       "      <td>13</td>\n",
       "      <td>41</td>\n",
       "      <td>68</td>\n",
       "    </tr>\n",
       "    <tr>\n",
       "      <th>2</th>\n",
       "      <td>2</td>\n",
       "      <td>Atif Raftad</td>\n",
       "      <td>4</td>\n",
       "      <td>10</td>\n",
       "      <td>7</td>\n",
       "      <td>4</td>\n",
       "      <td>5</td>\n",
       "      <td>4.5</td>\n",
       "      <td>30</td>\n",
       "      <td>41.5</td>\n",
       "    </tr>\n",
       "    <tr>\n",
       "      <th>3</th>\n",
       "      <td>3</td>\n",
       "      <td>Saiqa Aziz</td>\n",
       "      <td>15</td>\n",
       "      <td>11</td>\n",
       "      <td>13</td>\n",
       "      <td>14</td>\n",
       "      <td>13</td>\n",
       "      <td>13.5</td>\n",
       "      <td>34</td>\n",
       "      <td>60.5</td>\n",
       "    </tr>\n",
       "    <tr>\n",
       "      <th>4</th>\n",
       "      <td>8</td>\n",
       "      <td>Ozair Minhas</td>\n",
       "      <td>6</td>\n",
       "      <td>5</td>\n",
       "      <td>5.5</td>\n",
       "      <td>4</td>\n",
       "      <td>6</td>\n",
       "      <td>5</td>\n",
       "      <td>12</td>\n",
       "      <td>22.5</td>\n",
       "    </tr>\n",
       "  </tbody>\n",
       "</table>\n",
       "</div>"
      ],
      "text/plain": [
       "  Roll No           Name Quize_01 Quize_02 Quize_Avg     Ass_01    Ass_02  \\\n",
       "0     NaN            NaN  Quiz 01  Quiz 02  AVG (15)  Assig. 01  Assig.02   \n",
       "1       1  Ashir Mehfooz       14       14        14         13        13   \n",
       "2       2    Atif Raftad        4       10         7          4         5   \n",
       "3       3     Saiqa Aziz       15       11        13         14        13   \n",
       "4       8   Ozair Minhas        6        5       5.5          4         6   \n",
       "\n",
       "    Ass_Avg Mid_Term Final_Marks  \n",
       "0  AVG (15)       45    Total 75  \n",
       "1        13       41          68  \n",
       "2       4.5       30        41.5  \n",
       "3      13.5       34        60.5  \n",
       "4         5       12        22.5  "
      ]
     },
     "execution_count": 16,
     "metadata": {},
     "output_type": "execute_result"
    }
   ],
   "source": [
    "df_sess.head()"
   ]
  },
  {
   "cell_type": "code",
   "execution_count": 17,
   "id": "1921d6e2",
   "metadata": {
    "execution": {
     "iopub.execute_input": "2024-06-13T07:10:23.350213Z",
     "iopub.status.busy": "2024-06-13T07:10:23.349408Z",
     "iopub.status.idle": "2024-06-13T07:10:23.363097Z",
     "shell.execute_reply": "2024-06-13T07:10:23.362178Z"
    },
    "papermill": {
     "duration": 0.0367,
     "end_time": "2024-06-13T07:10:23.365015",
     "exception": false,
     "start_time": "2024-06-13T07:10:23.328315",
     "status": "completed"
    },
    "tags": []
   },
   "outputs": [
    {
     "data": {
      "text/html": [
       "<div>\n",
       "<style scoped>\n",
       "    .dataframe tbody tr th:only-of-type {\n",
       "        vertical-align: middle;\n",
       "    }\n",
       "\n",
       "    .dataframe tbody tr th {\n",
       "        vertical-align: top;\n",
       "    }\n",
       "\n",
       "    .dataframe thead th {\n",
       "        text-align: right;\n",
       "    }\n",
       "</style>\n",
       "<table border=\"1\" class=\"dataframe\">\n",
       "  <thead>\n",
       "    <tr style=\"text-align: right;\">\n",
       "      <th></th>\n",
       "      <th>Roll No</th>\n",
       "      <th>Name</th>\n",
       "      <th>Sess_Sum</th>\n",
       "      <th>Terminal</th>\n",
       "      <th>Total_150</th>\n",
       "      <th>Marks_in_Words</th>\n",
       "      <th>Percentage</th>\n",
       "      <th>Grade</th>\n",
       "      <th>GP</th>\n",
       "    </tr>\n",
       "  </thead>\n",
       "  <tbody>\n",
       "    <tr>\n",
       "      <th>0</th>\n",
       "      <td>NaN</td>\n",
       "      <td>NaN</td>\n",
       "      <td>Sessional (75)</td>\n",
       "      <td>Terminal (75)</td>\n",
       "      <td>Total 150</td>\n",
       "      <td>NaN</td>\n",
       "      <td>NaN</td>\n",
       "      <td>NaN</td>\n",
       "      <td>NaN</td>\n",
       "    </tr>\n",
       "    <tr>\n",
       "      <th>1</th>\n",
       "      <td>1</td>\n",
       "      <td>Ashir Mehfooz</td>\n",
       "      <td>68</td>\n",
       "      <td>55</td>\n",
       "      <td>123</td>\n",
       "      <td>One Hundred &amp; Twenty Three Only</td>\n",
       "      <td>82.000000</td>\n",
       "      <td>A</td>\n",
       "      <td>4.0</td>\n",
       "    </tr>\n",
       "    <tr>\n",
       "      <th>2</th>\n",
       "      <td>2</td>\n",
       "      <td>Atif Raftad</td>\n",
       "      <td>41.5</td>\n",
       "      <td>45</td>\n",
       "      <td>86.5</td>\n",
       "      <td>Eighty Six Pont Five Zero</td>\n",
       "      <td>57.666667</td>\n",
       "      <td>C</td>\n",
       "      <td>2.5</td>\n",
       "    </tr>\n",
       "    <tr>\n",
       "      <th>3</th>\n",
       "      <td>3</td>\n",
       "      <td>Saiqa Aziz</td>\n",
       "      <td>60.5</td>\n",
       "      <td>58</td>\n",
       "      <td>118.5</td>\n",
       "      <td>One Hundred &amp; Eighteen Pont Five Zero</td>\n",
       "      <td>79.000000</td>\n",
       "      <td>B+</td>\n",
       "      <td>3.9</td>\n",
       "    </tr>\n",
       "    <tr>\n",
       "      <th>4</th>\n",
       "      <td>8</td>\n",
       "      <td>Ozair Minhas</td>\n",
       "      <td>22.5</td>\n",
       "      <td>44</td>\n",
       "      <td>66.5</td>\n",
       "      <td>Sixty Six Pont Five Zero</td>\n",
       "      <td>44.333333</td>\n",
       "      <td>F</td>\n",
       "      <td>0.0</td>\n",
       "    </tr>\n",
       "  </tbody>\n",
       "</table>\n",
       "</div>"
      ],
      "text/plain": [
       "  Roll No           Name        Sess_Sum       Terminal  Total_150  \\\n",
       "0     NaN            NaN  Sessional (75)  Terminal (75)  Total 150   \n",
       "1       1  Ashir Mehfooz              68             55        123   \n",
       "2       2    Atif Raftad            41.5             45       86.5   \n",
       "3       3     Saiqa Aziz            60.5             58      118.5   \n",
       "4       8   Ozair Minhas            22.5             44       66.5   \n",
       "\n",
       "                          Marks_in_Words  Percentage Grade   GP  \n",
       "0                                    NaN         NaN   NaN  NaN  \n",
       "1        One Hundred & Twenty Three Only   82.000000     A  4.0  \n",
       "2              Eighty Six Pont Five Zero   57.666667     C  2.5  \n",
       "3  One Hundred & Eighteen Pont Five Zero   79.000000    B+  3.9  \n",
       "4               Sixty Six Pont Five Zero   44.333333     F  0.0  "
      ]
     },
     "execution_count": 17,
     "metadata": {},
     "output_type": "execute_result"
    }
   ],
   "source": [
    "df_final.head()"
   ]
  },
  {
   "cell_type": "markdown",
   "id": "f32a0a41",
   "metadata": {
    "_cell_guid": "29901564-54b3-4a9b-b005-a0c6ca681cc3",
    "_uuid": "49cfdd50-3879-42e6-8473-74c4e2c750c5",
    "jupyter": {
     "outputs_hidden": false
    },
    "papermill": {
     "duration": 0.020622,
     "end_time": "2024-06-13T07:10:23.406056",
     "exception": false,
     "start_time": "2024-06-13T07:10:23.385434",
     "status": "completed"
    },
    "tags": []
   },
   "source": [
    "**Removing the 0th row. Becuase, it don't have any use.**"
   ]
  },
  {
   "cell_type": "code",
   "execution_count": 18,
   "id": "b3e3b088",
   "metadata": {
    "_cell_guid": "11df1032-a4bf-44fe-81ac-5aa7602302d0",
    "_uuid": "473f542d-7d27-4c2c-8f39-b646f68b9c5c",
    "collapsed": false,
    "execution": {
     "iopub.execute_input": "2024-06-13T07:10:23.449177Z",
     "iopub.status.busy": "2024-06-13T07:10:23.448258Z",
     "iopub.status.idle": "2024-06-13T07:10:23.457036Z",
     "shell.execute_reply": "2024-06-13T07:10:23.456060Z"
    },
    "jupyter": {
     "outputs_hidden": false
    },
    "papermill": {
     "duration": 0.032482,
     "end_time": "2024-06-13T07:10:23.459062",
     "exception": false,
     "start_time": "2024-06-13T07:10:23.426580",
     "status": "completed"
    },
    "tags": []
   },
   "outputs": [],
   "source": [
    "df_sess = df_sess[df_sess.index != 0]\n",
    "\n",
    "df_final = df_final[df_final.index != 0]"
   ]
  },
  {
   "cell_type": "code",
   "execution_count": 19,
   "id": "f986af5e",
   "metadata": {
    "execution": {
     "iopub.execute_input": "2024-06-13T07:10:23.501444Z",
     "iopub.status.busy": "2024-06-13T07:10:23.500763Z",
     "iopub.status.idle": "2024-06-13T07:10:23.514423Z",
     "shell.execute_reply": "2024-06-13T07:10:23.513289Z"
    },
    "papermill": {
     "duration": 0.037063,
     "end_time": "2024-06-13T07:10:23.516503",
     "exception": false,
     "start_time": "2024-06-13T07:10:23.479440",
     "status": "completed"
    },
    "tags": []
   },
   "outputs": [
    {
     "data": {
      "text/html": [
       "<div>\n",
       "<style scoped>\n",
       "    .dataframe tbody tr th:only-of-type {\n",
       "        vertical-align: middle;\n",
       "    }\n",
       "\n",
       "    .dataframe tbody tr th {\n",
       "        vertical-align: top;\n",
       "    }\n",
       "\n",
       "    .dataframe thead th {\n",
       "        text-align: right;\n",
       "    }\n",
       "</style>\n",
       "<table border=\"1\" class=\"dataframe\">\n",
       "  <thead>\n",
       "    <tr style=\"text-align: right;\">\n",
       "      <th></th>\n",
       "      <th>Roll No</th>\n",
       "      <th>Name</th>\n",
       "      <th>Quize_01</th>\n",
       "      <th>Quize_02</th>\n",
       "      <th>Quize_Avg</th>\n",
       "      <th>Ass_01</th>\n",
       "      <th>Ass_02</th>\n",
       "      <th>Ass_Avg</th>\n",
       "      <th>Mid_Term</th>\n",
       "      <th>Final_Marks</th>\n",
       "    </tr>\n",
       "  </thead>\n",
       "  <tbody>\n",
       "    <tr>\n",
       "      <th>1</th>\n",
       "      <td>1</td>\n",
       "      <td>Ashir Mehfooz</td>\n",
       "      <td>14</td>\n",
       "      <td>14</td>\n",
       "      <td>14</td>\n",
       "      <td>13</td>\n",
       "      <td>13</td>\n",
       "      <td>13</td>\n",
       "      <td>41</td>\n",
       "      <td>68</td>\n",
       "    </tr>\n",
       "    <tr>\n",
       "      <th>2</th>\n",
       "      <td>2</td>\n",
       "      <td>Atif Raftad</td>\n",
       "      <td>4</td>\n",
       "      <td>10</td>\n",
       "      <td>7</td>\n",
       "      <td>4</td>\n",
       "      <td>5</td>\n",
       "      <td>4.5</td>\n",
       "      <td>30</td>\n",
       "      <td>41.5</td>\n",
       "    </tr>\n",
       "    <tr>\n",
       "      <th>3</th>\n",
       "      <td>3</td>\n",
       "      <td>Saiqa Aziz</td>\n",
       "      <td>15</td>\n",
       "      <td>11</td>\n",
       "      <td>13</td>\n",
       "      <td>14</td>\n",
       "      <td>13</td>\n",
       "      <td>13.5</td>\n",
       "      <td>34</td>\n",
       "      <td>60.5</td>\n",
       "    </tr>\n",
       "    <tr>\n",
       "      <th>4</th>\n",
       "      <td>8</td>\n",
       "      <td>Ozair Minhas</td>\n",
       "      <td>6</td>\n",
       "      <td>5</td>\n",
       "      <td>5.5</td>\n",
       "      <td>4</td>\n",
       "      <td>6</td>\n",
       "      <td>5</td>\n",
       "      <td>12</td>\n",
       "      <td>22.5</td>\n",
       "    </tr>\n",
       "    <tr>\n",
       "      <th>5</th>\n",
       "      <td>9</td>\n",
       "      <td>Naveera Subhani</td>\n",
       "      <td>5</td>\n",
       "      <td>11</td>\n",
       "      <td>8</td>\n",
       "      <td>4</td>\n",
       "      <td>5</td>\n",
       "      <td>4.5</td>\n",
       "      <td>34</td>\n",
       "      <td>46.5</td>\n",
       "    </tr>\n",
       "  </tbody>\n",
       "</table>\n",
       "</div>"
      ],
      "text/plain": [
       "  Roll No             Name Quize_01 Quize_02 Quize_Avg Ass_01 Ass_02 Ass_Avg  \\\n",
       "1       1    Ashir Mehfooz       14       14        14     13     13      13   \n",
       "2       2      Atif Raftad        4       10         7      4      5     4.5   \n",
       "3       3       Saiqa Aziz       15       11        13     14     13    13.5   \n",
       "4       8     Ozair Minhas        6        5       5.5      4      6       5   \n",
       "5       9  Naveera Subhani        5       11         8      4      5     4.5   \n",
       "\n",
       "  Mid_Term Final_Marks  \n",
       "1       41          68  \n",
       "2       30        41.5  \n",
       "3       34        60.5  \n",
       "4       12        22.5  \n",
       "5       34        46.5  "
      ]
     },
     "execution_count": 19,
     "metadata": {},
     "output_type": "execute_result"
    }
   ],
   "source": [
    "df_sess.head()"
   ]
  },
  {
   "cell_type": "code",
   "execution_count": 20,
   "id": "29c2af3e",
   "metadata": {
    "execution": {
     "iopub.execute_input": "2024-06-13T07:10:23.559578Z",
     "iopub.status.busy": "2024-06-13T07:10:23.558765Z",
     "iopub.status.idle": "2024-06-13T07:10:23.571910Z",
     "shell.execute_reply": "2024-06-13T07:10:23.571000Z"
    },
    "papermill": {
     "duration": 0.036876,
     "end_time": "2024-06-13T07:10:23.574000",
     "exception": false,
     "start_time": "2024-06-13T07:10:23.537124",
     "status": "completed"
    },
    "tags": []
   },
   "outputs": [
    {
     "data": {
      "text/html": [
       "<div>\n",
       "<style scoped>\n",
       "    .dataframe tbody tr th:only-of-type {\n",
       "        vertical-align: middle;\n",
       "    }\n",
       "\n",
       "    .dataframe tbody tr th {\n",
       "        vertical-align: top;\n",
       "    }\n",
       "\n",
       "    .dataframe thead th {\n",
       "        text-align: right;\n",
       "    }\n",
       "</style>\n",
       "<table border=\"1\" class=\"dataframe\">\n",
       "  <thead>\n",
       "    <tr style=\"text-align: right;\">\n",
       "      <th></th>\n",
       "      <th>Roll No</th>\n",
       "      <th>Name</th>\n",
       "      <th>Sess_Sum</th>\n",
       "      <th>Terminal</th>\n",
       "      <th>Total_150</th>\n",
       "      <th>Marks_in_Words</th>\n",
       "      <th>Percentage</th>\n",
       "      <th>Grade</th>\n",
       "      <th>GP</th>\n",
       "    </tr>\n",
       "  </thead>\n",
       "  <tbody>\n",
       "    <tr>\n",
       "      <th>1</th>\n",
       "      <td>1</td>\n",
       "      <td>Ashir Mehfooz</td>\n",
       "      <td>68</td>\n",
       "      <td>55</td>\n",
       "      <td>123</td>\n",
       "      <td>One Hundred &amp; Twenty Three Only</td>\n",
       "      <td>82.000000</td>\n",
       "      <td>A</td>\n",
       "      <td>4.0</td>\n",
       "    </tr>\n",
       "    <tr>\n",
       "      <th>2</th>\n",
       "      <td>2</td>\n",
       "      <td>Atif Raftad</td>\n",
       "      <td>41.5</td>\n",
       "      <td>45</td>\n",
       "      <td>86.5</td>\n",
       "      <td>Eighty Six Pont Five Zero</td>\n",
       "      <td>57.666667</td>\n",
       "      <td>C</td>\n",
       "      <td>2.5</td>\n",
       "    </tr>\n",
       "    <tr>\n",
       "      <th>3</th>\n",
       "      <td>3</td>\n",
       "      <td>Saiqa Aziz</td>\n",
       "      <td>60.5</td>\n",
       "      <td>58</td>\n",
       "      <td>118.5</td>\n",
       "      <td>One Hundred &amp; Eighteen Pont Five Zero</td>\n",
       "      <td>79.000000</td>\n",
       "      <td>B+</td>\n",
       "      <td>3.9</td>\n",
       "    </tr>\n",
       "    <tr>\n",
       "      <th>4</th>\n",
       "      <td>8</td>\n",
       "      <td>Ozair Minhas</td>\n",
       "      <td>22.5</td>\n",
       "      <td>44</td>\n",
       "      <td>66.5</td>\n",
       "      <td>Sixty Six Pont Five Zero</td>\n",
       "      <td>44.333333</td>\n",
       "      <td>F</td>\n",
       "      <td>0.0</td>\n",
       "    </tr>\n",
       "    <tr>\n",
       "      <th>5</th>\n",
       "      <td>9</td>\n",
       "      <td>Naveera Subhani</td>\n",
       "      <td>46.5</td>\n",
       "      <td>35</td>\n",
       "      <td>81.5</td>\n",
       "      <td>Eighty One Pont Five Zero</td>\n",
       "      <td>54.333333</td>\n",
       "      <td>C</td>\n",
       "      <td>2.2</td>\n",
       "    </tr>\n",
       "  </tbody>\n",
       "</table>\n",
       "</div>"
      ],
      "text/plain": [
       "  Roll No             Name Sess_Sum Terminal Total_150  \\\n",
       "1       1    Ashir Mehfooz       68       55       123   \n",
       "2       2      Atif Raftad     41.5       45      86.5   \n",
       "3       3       Saiqa Aziz     60.5       58     118.5   \n",
       "4       8     Ozair Minhas     22.5       44      66.5   \n",
       "5       9  Naveera Subhani     46.5       35      81.5   \n",
       "\n",
       "                          Marks_in_Words  Percentage Grade   GP  \n",
       "1        One Hundred & Twenty Three Only   82.000000     A  4.0  \n",
       "2              Eighty Six Pont Five Zero   57.666667     C  2.5  \n",
       "3  One Hundred & Eighteen Pont Five Zero   79.000000    B+  3.9  \n",
       "4               Sixty Six Pont Five Zero   44.333333     F  0.0  \n",
       "5              Eighty One Pont Five Zero   54.333333     C  2.2  "
      ]
     },
     "execution_count": 20,
     "metadata": {},
     "output_type": "execute_result"
    }
   ],
   "source": [
    "df_final.head()"
   ]
  },
  {
   "cell_type": "markdown",
   "id": "e999cc63",
   "metadata": {
    "papermill": {
     "duration": 0.020601,
     "end_time": "2024-06-13T07:10:23.615497",
     "exception": false,
     "start_time": "2024-06-13T07:10:23.594896",
     "status": "completed"
    },
    "tags": []
   },
   "source": [
    "**Removing Name and Roll No columns from sessional and Roll No, Name,\n",
    "Marks_in_Words, and Grade from final dataframes.**"
   ]
  },
  {
   "cell_type": "code",
   "execution_count": 21,
   "id": "19a400dc",
   "metadata": {
    "_cell_guid": "177f2b23-6e56-43d1-9f05-8fee94890fb8",
    "_uuid": "16a63f10-b403-43e6-87fd-aefc8744f99f",
    "collapsed": false,
    "execution": {
     "iopub.execute_input": "2024-06-13T07:10:23.658505Z",
     "iopub.status.busy": "2024-06-13T07:10:23.657864Z",
     "iopub.status.idle": "2024-06-13T07:10:23.666144Z",
     "shell.execute_reply": "2024-06-13T07:10:23.665198Z"
    },
    "jupyter": {
     "outputs_hidden": false
    },
    "papermill": {
     "duration": 0.032169,
     "end_time": "2024-06-13T07:10:23.668278",
     "exception": false,
     "start_time": "2024-06-13T07:10:23.636109",
     "status": "completed"
    },
    "tags": []
   },
   "outputs": [],
   "source": [
    "df_sess = df_sess.drop(['Name', 'Roll No'], axis=1)\n",
    "\n",
    "df_final = df_final.drop(['Roll No', 'Name', 'Marks_in_Words', 'Grade'], axis=1)"
   ]
  },
  {
   "cell_type": "code",
   "execution_count": 22,
   "id": "03c6ae86",
   "metadata": {
    "execution": {
     "iopub.execute_input": "2024-06-13T07:10:23.714806Z",
     "iopub.status.busy": "2024-06-13T07:10:23.714447Z",
     "iopub.status.idle": "2024-06-13T07:10:23.727248Z",
     "shell.execute_reply": "2024-06-13T07:10:23.726362Z"
    },
    "papermill": {
     "duration": 0.039966,
     "end_time": "2024-06-13T07:10:23.729234",
     "exception": false,
     "start_time": "2024-06-13T07:10:23.689268",
     "status": "completed"
    },
    "tags": []
   },
   "outputs": [
    {
     "data": {
      "text/html": [
       "<div>\n",
       "<style scoped>\n",
       "    .dataframe tbody tr th:only-of-type {\n",
       "        vertical-align: middle;\n",
       "    }\n",
       "\n",
       "    .dataframe tbody tr th {\n",
       "        vertical-align: top;\n",
       "    }\n",
       "\n",
       "    .dataframe thead th {\n",
       "        text-align: right;\n",
       "    }\n",
       "</style>\n",
       "<table border=\"1\" class=\"dataframe\">\n",
       "  <thead>\n",
       "    <tr style=\"text-align: right;\">\n",
       "      <th></th>\n",
       "      <th>Quize_01</th>\n",
       "      <th>Quize_02</th>\n",
       "      <th>Quize_Avg</th>\n",
       "      <th>Ass_01</th>\n",
       "      <th>Ass_02</th>\n",
       "      <th>Ass_Avg</th>\n",
       "      <th>Mid_Term</th>\n",
       "      <th>Final_Marks</th>\n",
       "    </tr>\n",
       "  </thead>\n",
       "  <tbody>\n",
       "    <tr>\n",
       "      <th>1</th>\n",
       "      <td>14</td>\n",
       "      <td>14</td>\n",
       "      <td>14</td>\n",
       "      <td>13</td>\n",
       "      <td>13</td>\n",
       "      <td>13</td>\n",
       "      <td>41</td>\n",
       "      <td>68</td>\n",
       "    </tr>\n",
       "    <tr>\n",
       "      <th>2</th>\n",
       "      <td>4</td>\n",
       "      <td>10</td>\n",
       "      <td>7</td>\n",
       "      <td>4</td>\n",
       "      <td>5</td>\n",
       "      <td>4.5</td>\n",
       "      <td>30</td>\n",
       "      <td>41.5</td>\n",
       "    </tr>\n",
       "    <tr>\n",
       "      <th>3</th>\n",
       "      <td>15</td>\n",
       "      <td>11</td>\n",
       "      <td>13</td>\n",
       "      <td>14</td>\n",
       "      <td>13</td>\n",
       "      <td>13.5</td>\n",
       "      <td>34</td>\n",
       "      <td>60.5</td>\n",
       "    </tr>\n",
       "    <tr>\n",
       "      <th>4</th>\n",
       "      <td>6</td>\n",
       "      <td>5</td>\n",
       "      <td>5.5</td>\n",
       "      <td>4</td>\n",
       "      <td>6</td>\n",
       "      <td>5</td>\n",
       "      <td>12</td>\n",
       "      <td>22.5</td>\n",
       "    </tr>\n",
       "    <tr>\n",
       "      <th>5</th>\n",
       "      <td>5</td>\n",
       "      <td>11</td>\n",
       "      <td>8</td>\n",
       "      <td>4</td>\n",
       "      <td>5</td>\n",
       "      <td>4.5</td>\n",
       "      <td>34</td>\n",
       "      <td>46.5</td>\n",
       "    </tr>\n",
       "  </tbody>\n",
       "</table>\n",
       "</div>"
      ],
      "text/plain": [
       "  Quize_01 Quize_02 Quize_Avg Ass_01 Ass_02 Ass_Avg Mid_Term Final_Marks\n",
       "1       14       14        14     13     13      13       41          68\n",
       "2        4       10         7      4      5     4.5       30        41.5\n",
       "3       15       11        13     14     13    13.5       34        60.5\n",
       "4        6        5       5.5      4      6       5       12        22.5\n",
       "5        5       11         8      4      5     4.5       34        46.5"
      ]
     },
     "execution_count": 22,
     "metadata": {},
     "output_type": "execute_result"
    }
   ],
   "source": [
    "df_sess.head()"
   ]
  },
  {
   "cell_type": "code",
   "execution_count": 23,
   "id": "df08a95e",
   "metadata": {
    "execution": {
     "iopub.execute_input": "2024-06-13T07:10:23.773056Z",
     "iopub.status.busy": "2024-06-13T07:10:23.772706Z",
     "iopub.status.idle": "2024-06-13T07:10:23.784820Z",
     "shell.execute_reply": "2024-06-13T07:10:23.783690Z"
    },
    "papermill": {
     "duration": 0.037013,
     "end_time": "2024-06-13T07:10:23.787458",
     "exception": false,
     "start_time": "2024-06-13T07:10:23.750445",
     "status": "completed"
    },
    "tags": []
   },
   "outputs": [
    {
     "data": {
      "text/html": [
       "<div>\n",
       "<style scoped>\n",
       "    .dataframe tbody tr th:only-of-type {\n",
       "        vertical-align: middle;\n",
       "    }\n",
       "\n",
       "    .dataframe tbody tr th {\n",
       "        vertical-align: top;\n",
       "    }\n",
       "\n",
       "    .dataframe thead th {\n",
       "        text-align: right;\n",
       "    }\n",
       "</style>\n",
       "<table border=\"1\" class=\"dataframe\">\n",
       "  <thead>\n",
       "    <tr style=\"text-align: right;\">\n",
       "      <th></th>\n",
       "      <th>Sess_Sum</th>\n",
       "      <th>Terminal</th>\n",
       "      <th>Total_150</th>\n",
       "      <th>Percentage</th>\n",
       "      <th>GP</th>\n",
       "    </tr>\n",
       "  </thead>\n",
       "  <tbody>\n",
       "    <tr>\n",
       "      <th>1</th>\n",
       "      <td>68</td>\n",
       "      <td>55</td>\n",
       "      <td>123</td>\n",
       "      <td>82.000000</td>\n",
       "      <td>4.0</td>\n",
       "    </tr>\n",
       "    <tr>\n",
       "      <th>2</th>\n",
       "      <td>41.5</td>\n",
       "      <td>45</td>\n",
       "      <td>86.5</td>\n",
       "      <td>57.666667</td>\n",
       "      <td>2.5</td>\n",
       "    </tr>\n",
       "    <tr>\n",
       "      <th>3</th>\n",
       "      <td>60.5</td>\n",
       "      <td>58</td>\n",
       "      <td>118.5</td>\n",
       "      <td>79.000000</td>\n",
       "      <td>3.9</td>\n",
       "    </tr>\n",
       "    <tr>\n",
       "      <th>4</th>\n",
       "      <td>22.5</td>\n",
       "      <td>44</td>\n",
       "      <td>66.5</td>\n",
       "      <td>44.333333</td>\n",
       "      <td>0.0</td>\n",
       "    </tr>\n",
       "    <tr>\n",
       "      <th>5</th>\n",
       "      <td>46.5</td>\n",
       "      <td>35</td>\n",
       "      <td>81.5</td>\n",
       "      <td>54.333333</td>\n",
       "      <td>2.2</td>\n",
       "    </tr>\n",
       "  </tbody>\n",
       "</table>\n",
       "</div>"
      ],
      "text/plain": [
       "  Sess_Sum Terminal Total_150  Percentage   GP\n",
       "1       68       55       123   82.000000  4.0\n",
       "2     41.5       45      86.5   57.666667  2.5\n",
       "3     60.5       58     118.5   79.000000  3.9\n",
       "4     22.5       44      66.5   44.333333  0.0\n",
       "5     46.5       35      81.5   54.333333  2.2"
      ]
     },
     "execution_count": 23,
     "metadata": {},
     "output_type": "execute_result"
    }
   ],
   "source": [
    "df_final.head()"
   ]
  },
  {
   "cell_type": "markdown",
   "id": "7f2a01a9",
   "metadata": {
    "papermill": {
     "duration": 0.025047,
     "end_time": "2024-06-13T07:10:23.835281",
     "exception": false,
     "start_time": "2024-06-13T07:10:23.810234",
     "status": "completed"
    },
    "tags": []
   },
   "source": [
    "# Removing Empty Values"
   ]
  },
  {
   "cell_type": "markdown",
   "id": "2daa9c77",
   "metadata": {
    "papermill": {
     "duration": 0.025439,
     "end_time": "2024-06-13T07:10:23.887924",
     "exception": false,
     "start_time": "2024-06-13T07:10:23.862485",
     "status": "completed"
    },
    "tags": []
   },
   "source": [
    "**Function to check if a value is numeric**"
   ]
  },
  {
   "cell_type": "code",
   "execution_count": 24,
   "id": "db1902ab",
   "metadata": {
    "_cell_guid": "17d4ba46-2e9b-4a30-8029-600d655d9497",
    "_uuid": "ad7b4084-dd13-481d-a539-3f8473592557",
    "collapsed": false,
    "execution": {
     "iopub.execute_input": "2024-06-13T07:10:23.932329Z",
     "iopub.status.busy": "2024-06-13T07:10:23.931514Z",
     "iopub.status.idle": "2024-06-13T07:10:23.936031Z",
     "shell.execute_reply": "2024-06-13T07:10:23.935129Z"
    },
    "jupyter": {
     "outputs_hidden": false
    },
    "papermill": {
     "duration": 0.02879,
     "end_time": "2024-06-13T07:10:23.937996",
     "exception": false,
     "start_time": "2024-06-13T07:10:23.909206",
     "status": "completed"
    },
    "tags": []
   },
   "outputs": [],
   "source": [
    "def is_numeric(x):\n",
    "    return isinstance(x, (int, float))"
   ]
  },
  {
   "cell_type": "markdown",
   "id": "51858109",
   "metadata": {
    "papermill": {
     "duration": 0.020739,
     "end_time": "2024-06-13T07:10:23.979866",
     "exception": false,
     "start_time": "2024-06-13T07:10:23.959127",
     "status": "completed"
    },
    "tags": []
   },
   "source": [
    "**Counting and removing empty values.**"
   ]
  },
  {
   "cell_type": "code",
   "execution_count": 25,
   "id": "95dc9089",
   "metadata": {
    "execution": {
     "iopub.execute_input": "2024-06-13T07:10:24.025420Z",
     "iopub.status.busy": "2024-06-13T07:10:24.024579Z",
     "iopub.status.idle": "2024-06-13T07:10:24.030421Z",
     "shell.execute_reply": "2024-06-13T07:10:24.029498Z"
    },
    "papermill": {
     "duration": 0.031096,
     "end_time": "2024-06-13T07:10:24.032372",
     "exception": false,
     "start_time": "2024-06-13T07:10:24.001276",
     "status": "completed"
    },
    "tags": []
   },
   "outputs": [],
   "source": [
    "# Function to check non-numeric values and empty strings before replacement\n",
    "\n",
    "def count_non_numeric_and_empty(df):\n",
    "\n",
    "    non_numeric_count = sum(~df[col].apply(pd.to_numeric, errors='coerce').notna().all() for col in df.columns)\n",
    "    \n",
    "    empty_string_count = sum(df[col].apply(lambda x: isinstance(x, str) and x.strip() == '').sum() for col in df.columns)\n",
    "    \n",
    "    return non_numeric_count, empty_string_count\n"
   ]
  },
  {
   "cell_type": "code",
   "execution_count": 26,
   "id": "bbc7fa5f",
   "metadata": {
    "execution": {
     "iopub.execute_input": "2024-06-13T07:10:24.076696Z",
     "iopub.status.busy": "2024-06-13T07:10:24.075849Z",
     "iopub.status.idle": "2024-06-13T07:10:24.087860Z",
     "shell.execute_reply": "2024-06-13T07:10:24.086916Z"
    },
    "papermill": {
     "duration": 0.03632,
     "end_time": "2024-06-13T07:10:24.089800",
     "exception": false,
     "start_time": "2024-06-13T07:10:24.053480",
     "status": "completed"
    },
    "tags": []
   },
   "outputs": [],
   "source": [
    "non_numeric_count_final_before, empty_string_count_final_before = count_non_numeric_and_empty(df_final)"
   ]
  },
  {
   "cell_type": "code",
   "execution_count": 27,
   "id": "719999fe",
   "metadata": {
    "execution": {
     "iopub.execute_input": "2024-06-13T07:10:24.134035Z",
     "iopub.status.busy": "2024-06-13T07:10:24.133235Z",
     "iopub.status.idle": "2024-06-13T07:10:24.138263Z",
     "shell.execute_reply": "2024-06-13T07:10:24.137373Z"
    },
    "papermill": {
     "duration": 0.029427,
     "end_time": "2024-06-13T07:10:24.140388",
     "exception": false,
     "start_time": "2024-06-13T07:10:24.110961",
     "status": "completed"
    },
    "tags": []
   },
   "outputs": [
    {
     "name": "stdout",
     "output_type": "stream",
     "text": [
      "Non-numeric count before replacement in df_final: 5\n",
      "Empty string count before replacement in df_final: 0\n"
     ]
    }
   ],
   "source": [
    "print('Non-numeric count before replacement in df_final:', non_numeric_count_final_before)\n",
    "print('Empty string count before replacement in df_final:', empty_string_count_final_before)"
   ]
  },
  {
   "cell_type": "code",
   "execution_count": 28,
   "id": "f3e66b7a",
   "metadata": {
    "execution": {
     "iopub.execute_input": "2024-06-13T07:10:24.184985Z",
     "iopub.status.busy": "2024-06-13T07:10:24.184186Z",
     "iopub.status.idle": "2024-06-13T07:10:24.199283Z",
     "shell.execute_reply": "2024-06-13T07:10:24.198382Z"
    },
    "papermill": {
     "duration": 0.039747,
     "end_time": "2024-06-13T07:10:24.201402",
     "exception": false,
     "start_time": "2024-06-13T07:10:24.161655",
     "status": "completed"
    },
    "tags": []
   },
   "outputs": [],
   "source": [
    "non_numeric_count_sess_before, empty_string_count_sess_before = count_non_numeric_and_empty(df_sess)"
   ]
  },
  {
   "cell_type": "code",
   "execution_count": 29,
   "id": "3e275a44",
   "metadata": {
    "execution": {
     "iopub.execute_input": "2024-06-13T07:10:24.245800Z",
     "iopub.status.busy": "2024-06-13T07:10:24.245014Z",
     "iopub.status.idle": "2024-06-13T07:10:24.249975Z",
     "shell.execute_reply": "2024-06-13T07:10:24.249087Z"
    },
    "papermill": {
     "duration": 0.029225,
     "end_time": "2024-06-13T07:10:24.251934",
     "exception": false,
     "start_time": "2024-06-13T07:10:24.222709",
     "status": "completed"
    },
    "tags": []
   },
   "outputs": [
    {
     "name": "stdout",
     "output_type": "stream",
     "text": [
      "Non-numeric count before replacement in df_sess: 8\n",
      "Empty string count before replacement in df_sess: 11\n"
     ]
    }
   ],
   "source": [
    "print('Non-numeric count before replacement in df_sess:', non_numeric_count_sess_before)\n",
    "print('Empty string count before replacement in df_sess:', empty_string_count_sess_before)"
   ]
  },
  {
   "cell_type": "code",
   "execution_count": 30,
   "id": "6c188329",
   "metadata": {
    "execution": {
     "iopub.execute_input": "2024-06-13T07:10:24.296329Z",
     "iopub.status.busy": "2024-06-13T07:10:24.295531Z",
     "iopub.status.idle": "2024-06-13T07:10:24.301862Z",
     "shell.execute_reply": "2024-06-13T07:10:24.300917Z"
    },
    "papermill": {
     "duration": 0.031071,
     "end_time": "2024-06-13T07:10:24.304192",
     "exception": false,
     "start_time": "2024-06-13T07:10:24.273121",
     "status": "completed"
    },
    "tags": []
   },
   "outputs": [
    {
     "name": "stdout",
     "output_type": "stream",
     "text": [
      "\n",
      "NaN values before replacement:\n",
      "Sess_Sum      24\n",
      "Terminal      14\n",
      "Total_150     22\n",
      "Percentage    29\n",
      "GP            29\n",
      "dtype: int64\n"
     ]
    }
   ],
   "source": [
    "# Count the number of NaN values before replacement\n",
    "\n",
    "print(\"\\nNaN values before replacement:\")\n",
    "\n",
    "print(df_final.isna().sum())"
   ]
  },
  {
   "cell_type": "code",
   "execution_count": 31,
   "id": "842d8b62",
   "metadata": {
    "execution": {
     "iopub.execute_input": "2024-06-13T07:10:24.348111Z",
     "iopub.status.busy": "2024-06-13T07:10:24.347776Z",
     "iopub.status.idle": "2024-06-13T07:10:24.353794Z",
     "shell.execute_reply": "2024-06-13T07:10:24.352763Z"
    },
    "papermill": {
     "duration": 0.03063,
     "end_time": "2024-06-13T07:10:24.356109",
     "exception": false,
     "start_time": "2024-06-13T07:10:24.325479",
     "status": "completed"
    },
    "tags": []
   },
   "outputs": [
    {
     "name": "stdout",
     "output_type": "stream",
     "text": [
      "\n",
      "NaN values before replacement:\n",
      "Quize_01        9\n",
      "Quize_02       12\n",
      "Quize_Avg       8\n",
      "Ass_01         13\n",
      "Ass_02         11\n",
      "Ass_Avg         8\n",
      "Mid_Term        8\n",
      "Final_Marks    19\n",
      "dtype: int64\n"
     ]
    }
   ],
   "source": [
    "# Count the number of NaN values before replacement\n",
    "\n",
    "print(\"\\nNaN values before replacement:\")\n",
    "\n",
    "print(df_sess.isna().sum())"
   ]
  },
  {
   "cell_type": "code",
   "execution_count": 32,
   "id": "a59d5e44",
   "metadata": {
    "execution": {
     "iopub.execute_input": "2024-06-13T07:10:24.400537Z",
     "iopub.status.busy": "2024-06-13T07:10:24.399952Z",
     "iopub.status.idle": "2024-06-13T07:10:24.405778Z",
     "shell.execute_reply": "2024-06-13T07:10:24.404863Z"
    },
    "papermill": {
     "duration": 0.030461,
     "end_time": "2024-06-13T07:10:24.407831",
     "exception": false,
     "start_time": "2024-06-13T07:10:24.377370",
     "status": "completed"
    },
    "tags": []
   },
   "outputs": [],
   "source": [
    "# Convert non-numeric values to NaN\n",
    "\n",
    "df_final = df_final.apply(pd.to_numeric, errors='coerce')"
   ]
  },
  {
   "cell_type": "code",
   "execution_count": 33,
   "id": "859df9ad",
   "metadata": {
    "execution": {
     "iopub.execute_input": "2024-06-13T07:10:24.452601Z",
     "iopub.status.busy": "2024-06-13T07:10:24.451922Z",
     "iopub.status.idle": "2024-06-13T07:10:24.456560Z",
     "shell.execute_reply": "2024-06-13T07:10:24.455699Z"
    },
    "papermill": {
     "duration": 0.0291,
     "end_time": "2024-06-13T07:10:24.458470",
     "exception": false,
     "start_time": "2024-06-13T07:10:24.429370",
     "status": "completed"
    },
    "tags": []
   },
   "outputs": [],
   "source": [
    "# Replace NaN with 0 in df_final\n",
    "\n",
    "df_final.fillna(0, inplace=True)"
   ]
  },
  {
   "cell_type": "code",
   "execution_count": 34,
   "id": "988b6eb1",
   "metadata": {
    "execution": {
     "iopub.execute_input": "2024-06-13T07:10:24.502950Z",
     "iopub.status.busy": "2024-06-13T07:10:24.502184Z",
     "iopub.status.idle": "2024-06-13T07:10:24.508873Z",
     "shell.execute_reply": "2024-06-13T07:10:24.507929Z"
    },
    "papermill": {
     "duration": 0.031053,
     "end_time": "2024-06-13T07:10:24.510866",
     "exception": false,
     "start_time": "2024-06-13T07:10:24.479813",
     "status": "completed"
    },
    "tags": []
   },
   "outputs": [],
   "source": [
    "# Convert non-numeric values to NaN\n",
    "\n",
    "df_sess = df_sess.apply(pd.to_numeric, errors='coerce')"
   ]
  },
  {
   "cell_type": "code",
   "execution_count": 35,
   "id": "e5714201",
   "metadata": {
    "execution": {
     "iopub.execute_input": "2024-06-13T07:10:24.555899Z",
     "iopub.status.busy": "2024-06-13T07:10:24.555526Z",
     "iopub.status.idle": "2024-06-13T07:10:24.560460Z",
     "shell.execute_reply": "2024-06-13T07:10:24.559664Z"
    },
    "papermill": {
     "duration": 0.029956,
     "end_time": "2024-06-13T07:10:24.562369",
     "exception": false,
     "start_time": "2024-06-13T07:10:24.532413",
     "status": "completed"
    },
    "tags": []
   },
   "outputs": [],
   "source": [
    "# Replace NaN with 0 in df_sess\n",
    "\n",
    "df_sess.fillna(0, inplace=True)"
   ]
  },
  {
   "cell_type": "code",
   "execution_count": 36,
   "id": "e50c11cb",
   "metadata": {
    "execution": {
     "iopub.execute_input": "2024-06-13T07:10:24.606929Z",
     "iopub.status.busy": "2024-06-13T07:10:24.606281Z",
     "iopub.status.idle": "2024-06-13T07:10:24.612184Z",
     "shell.execute_reply": "2024-06-13T07:10:24.611273Z"
    },
    "papermill": {
     "duration": 0.030378,
     "end_time": "2024-06-13T07:10:24.614154",
     "exception": false,
     "start_time": "2024-06-13T07:10:24.583776",
     "status": "completed"
    },
    "tags": []
   },
   "outputs": [
    {
     "name": "stdout",
     "output_type": "stream",
     "text": [
      "\n",
      "NaN values before replacement:\n",
      "Sess_Sum      0\n",
      "Terminal      0\n",
      "Total_150     0\n",
      "Percentage    0\n",
      "GP            0\n",
      "dtype: int64\n"
     ]
    }
   ],
   "source": [
    "# Count the number of NaN values after replacement\n",
    "\n",
    "print(\"\\nNaN values before replacement:\")\n",
    "\n",
    "print(df_final.isna().sum())"
   ]
  },
  {
   "cell_type": "code",
   "execution_count": 37,
   "id": "a02593fb",
   "metadata": {
    "execution": {
     "iopub.execute_input": "2024-06-13T07:10:24.659250Z",
     "iopub.status.busy": "2024-06-13T07:10:24.658589Z",
     "iopub.status.idle": "2024-06-13T07:10:24.664584Z",
     "shell.execute_reply": "2024-06-13T07:10:24.663703Z"
    },
    "papermill": {
     "duration": 0.03117,
     "end_time": "2024-06-13T07:10:24.667086",
     "exception": false,
     "start_time": "2024-06-13T07:10:24.635916",
     "status": "completed"
    },
    "tags": []
   },
   "outputs": [
    {
     "name": "stdout",
     "output_type": "stream",
     "text": [
      "\n",
      "NaN values before replacement:\n",
      "Quize_01       0\n",
      "Quize_02       0\n",
      "Quize_Avg      0\n",
      "Ass_01         0\n",
      "Ass_02         0\n",
      "Ass_Avg        0\n",
      "Mid_Term       0\n",
      "Final_Marks    0\n",
      "dtype: int64\n"
     ]
    }
   ],
   "source": [
    "# Count the number of NaN values after replacement\n",
    "\n",
    "print(\"\\nNaN values before replacement:\")\n",
    "\n",
    "print(df_sess.isna().sum())"
   ]
  },
  {
   "cell_type": "code",
   "execution_count": 38,
   "id": "9508f6bc",
   "metadata": {
    "execution": {
     "iopub.execute_input": "2024-06-13T07:10:24.712256Z",
     "iopub.status.busy": "2024-06-13T07:10:24.711466Z",
     "iopub.status.idle": "2024-06-13T07:10:24.735886Z",
     "shell.execute_reply": "2024-06-13T07:10:24.734966Z"
    },
    "papermill": {
     "duration": 0.049331,
     "end_time": "2024-06-13T07:10:24.737887",
     "exception": false,
     "start_time": "2024-06-13T07:10:24.688556",
     "status": "completed"
    },
    "tags": []
   },
   "outputs": [
    {
     "data": {
      "text/html": [
       "<div>\n",
       "<style scoped>\n",
       "    .dataframe tbody tr th:only-of-type {\n",
       "        vertical-align: middle;\n",
       "    }\n",
       "\n",
       "    .dataframe tbody tr th {\n",
       "        vertical-align: top;\n",
       "    }\n",
       "\n",
       "    .dataframe thead th {\n",
       "        text-align: right;\n",
       "    }\n",
       "</style>\n",
       "<table border=\"1\" class=\"dataframe\">\n",
       "  <thead>\n",
       "    <tr style=\"text-align: right;\">\n",
       "      <th></th>\n",
       "      <th>Sess_Sum</th>\n",
       "      <th>Terminal</th>\n",
       "      <th>Total_150</th>\n",
       "      <th>Percentage</th>\n",
       "      <th>GP</th>\n",
       "    </tr>\n",
       "  </thead>\n",
       "  <tbody>\n",
       "    <tr>\n",
       "      <th>count</th>\n",
       "      <td>234.000000</td>\n",
       "      <td>234.000000</td>\n",
       "      <td>234.000000</td>\n",
       "      <td>234.000000</td>\n",
       "      <td>234.000000</td>\n",
       "    </tr>\n",
       "    <tr>\n",
       "      <th>mean</th>\n",
       "      <td>42.324786</td>\n",
       "      <td>34.465812</td>\n",
       "      <td>73.615385</td>\n",
       "      <td>48.492877</td>\n",
       "      <td>1.592308</td>\n",
       "    </tr>\n",
       "    <tr>\n",
       "      <th>std</th>\n",
       "      <td>23.713492</td>\n",
       "      <td>22.800330</td>\n",
       "      <td>35.203387</td>\n",
       "      <td>24.214413</td>\n",
       "      <td>1.600411</td>\n",
       "    </tr>\n",
       "    <tr>\n",
       "      <th>min</th>\n",
       "      <td>0.000000</td>\n",
       "      <td>0.000000</td>\n",
       "      <td>0.000000</td>\n",
       "      <td>0.000000</td>\n",
       "      <td>0.000000</td>\n",
       "    </tr>\n",
       "    <tr>\n",
       "      <th>25%</th>\n",
       "      <td>34.125000</td>\n",
       "      <td>14.250000</td>\n",
       "      <td>55.625000</td>\n",
       "      <td>37.000000</td>\n",
       "      <td>0.000000</td>\n",
       "    </tr>\n",
       "    <tr>\n",
       "      <th>50%</th>\n",
       "      <td>44.500000</td>\n",
       "      <td>34.000000</td>\n",
       "      <td>76.000000</td>\n",
       "      <td>50.666667</td>\n",
       "      <td>2.000000</td>\n",
       "    </tr>\n",
       "    <tr>\n",
       "      <th>75%</th>\n",
       "      <td>53.500000</td>\n",
       "      <td>54.000000</td>\n",
       "      <td>100.000000</td>\n",
       "      <td>66.666667</td>\n",
       "      <td>3.100000</td>\n",
       "    </tr>\n",
       "    <tr>\n",
       "      <th>max</th>\n",
       "      <td>198.000000</td>\n",
       "      <td>75.000000</td>\n",
       "      <td>132.500000</td>\n",
       "      <td>88.333333</td>\n",
       "      <td>4.000000</td>\n",
       "    </tr>\n",
       "  </tbody>\n",
       "</table>\n",
       "</div>"
      ],
      "text/plain": [
       "         Sess_Sum    Terminal   Total_150  Percentage          GP\n",
       "count  234.000000  234.000000  234.000000  234.000000  234.000000\n",
       "mean    42.324786   34.465812   73.615385   48.492877    1.592308\n",
       "std     23.713492   22.800330   35.203387   24.214413    1.600411\n",
       "min      0.000000    0.000000    0.000000    0.000000    0.000000\n",
       "25%     34.125000   14.250000   55.625000   37.000000    0.000000\n",
       "50%     44.500000   34.000000   76.000000   50.666667    2.000000\n",
       "75%     53.500000   54.000000  100.000000   66.666667    3.100000\n",
       "max    198.000000   75.000000  132.500000   88.333333    4.000000"
      ]
     },
     "execution_count": 38,
     "metadata": {},
     "output_type": "execute_result"
    }
   ],
   "source": [
    "df_final.describe()"
   ]
  },
  {
   "cell_type": "code",
   "execution_count": 39,
   "id": "31041b92",
   "metadata": {
    "execution": {
     "iopub.execute_input": "2024-06-13T07:10:24.783839Z",
     "iopub.status.busy": "2024-06-13T07:10:24.783096Z",
     "iopub.status.idle": "2024-06-13T07:10:24.812805Z",
     "shell.execute_reply": "2024-06-13T07:10:24.811864Z"
    },
    "papermill": {
     "duration": 0.055062,
     "end_time": "2024-06-13T07:10:24.815017",
     "exception": false,
     "start_time": "2024-06-13T07:10:24.759955",
     "status": "completed"
    },
    "tags": []
   },
   "outputs": [
    {
     "data": {
      "text/html": [
       "<div>\n",
       "<style scoped>\n",
       "    .dataframe tbody tr th:only-of-type {\n",
       "        vertical-align: middle;\n",
       "    }\n",
       "\n",
       "    .dataframe tbody tr th {\n",
       "        vertical-align: top;\n",
       "    }\n",
       "\n",
       "    .dataframe thead th {\n",
       "        text-align: right;\n",
       "    }\n",
       "</style>\n",
       "<table border=\"1\" class=\"dataframe\">\n",
       "  <thead>\n",
       "    <tr style=\"text-align: right;\">\n",
       "      <th></th>\n",
       "      <th>Quize_01</th>\n",
       "      <th>Quize_02</th>\n",
       "      <th>Quize_Avg</th>\n",
       "      <th>Ass_01</th>\n",
       "      <th>Ass_02</th>\n",
       "      <th>Ass_Avg</th>\n",
       "      <th>Mid_Term</th>\n",
       "      <th>Final_Marks</th>\n",
       "    </tr>\n",
       "  </thead>\n",
       "  <tbody>\n",
       "    <tr>\n",
       "      <th>count</th>\n",
       "      <td>224.000000</td>\n",
       "      <td>224.000000</td>\n",
       "      <td>224.000000</td>\n",
       "      <td>224.000000</td>\n",
       "      <td>224.000000</td>\n",
       "      <td>224.000000</td>\n",
       "      <td>224.000000</td>\n",
       "      <td>224.000000</td>\n",
       "    </tr>\n",
       "    <tr>\n",
       "      <th>mean</th>\n",
       "      <td>7.808036</td>\n",
       "      <td>7.669643</td>\n",
       "      <td>7.734375</td>\n",
       "      <td>7.397321</td>\n",
       "      <td>7.620536</td>\n",
       "      <td>7.508929</td>\n",
       "      <td>27.049107</td>\n",
       "      <td>41.522321</td>\n",
       "    </tr>\n",
       "    <tr>\n",
       "      <th>std</th>\n",
       "      <td>4.766637</td>\n",
       "      <td>4.932528</td>\n",
       "      <td>3.927279</td>\n",
       "      <td>4.885064</td>\n",
       "      <td>5.396704</td>\n",
       "      <td>4.015375</td>\n",
       "      <td>12.670445</td>\n",
       "      <td>16.917551</td>\n",
       "    </tr>\n",
       "    <tr>\n",
       "      <th>min</th>\n",
       "      <td>0.000000</td>\n",
       "      <td>0.000000</td>\n",
       "      <td>0.000000</td>\n",
       "      <td>0.000000</td>\n",
       "      <td>0.000000</td>\n",
       "      <td>0.000000</td>\n",
       "      <td>0.000000</td>\n",
       "      <td>0.000000</td>\n",
       "    </tr>\n",
       "    <tr>\n",
       "      <th>25%</th>\n",
       "      <td>4.000000</td>\n",
       "      <td>3.000000</td>\n",
       "      <td>5.000000</td>\n",
       "      <td>3.000000</td>\n",
       "      <td>3.000000</td>\n",
       "      <td>4.375000</td>\n",
       "      <td>21.000000</td>\n",
       "      <td>35.000000</td>\n",
       "    </tr>\n",
       "    <tr>\n",
       "      <th>50%</th>\n",
       "      <td>6.500000</td>\n",
       "      <td>6.000000</td>\n",
       "      <td>7.500000</td>\n",
       "      <td>6.000000</td>\n",
       "      <td>6.000000</td>\n",
       "      <td>7.500000</td>\n",
       "      <td>30.000000</td>\n",
       "      <td>44.500000</td>\n",
       "    </tr>\n",
       "    <tr>\n",
       "      <th>75%</th>\n",
       "      <td>13.000000</td>\n",
       "      <td>13.000000</td>\n",
       "      <td>10.625000</td>\n",
       "      <td>13.000000</td>\n",
       "      <td>13.000000</td>\n",
       "      <td>10.000000</td>\n",
       "      <td>35.000000</td>\n",
       "      <td>53.500000</td>\n",
       "    </tr>\n",
       "    <tr>\n",
       "      <th>max</th>\n",
       "      <td>15.000000</td>\n",
       "      <td>15.000000</td>\n",
       "      <td>15.000000</td>\n",
       "      <td>15.000000</td>\n",
       "      <td>44.000000</td>\n",
       "      <td>23.000000</td>\n",
       "      <td>45.000000</td>\n",
       "      <td>72.000000</td>\n",
       "    </tr>\n",
       "  </tbody>\n",
       "</table>\n",
       "</div>"
      ],
      "text/plain": [
       "         Quize_01    Quize_02   Quize_Avg      Ass_01      Ass_02     Ass_Avg  \\\n",
       "count  224.000000  224.000000  224.000000  224.000000  224.000000  224.000000   \n",
       "mean     7.808036    7.669643    7.734375    7.397321    7.620536    7.508929   \n",
       "std      4.766637    4.932528    3.927279    4.885064    5.396704    4.015375   \n",
       "min      0.000000    0.000000    0.000000    0.000000    0.000000    0.000000   \n",
       "25%      4.000000    3.000000    5.000000    3.000000    3.000000    4.375000   \n",
       "50%      6.500000    6.000000    7.500000    6.000000    6.000000    7.500000   \n",
       "75%     13.000000   13.000000   10.625000   13.000000   13.000000   10.000000   \n",
       "max     15.000000   15.000000   15.000000   15.000000   44.000000   23.000000   \n",
       "\n",
       "         Mid_Term  Final_Marks  \n",
       "count  224.000000   224.000000  \n",
       "mean    27.049107    41.522321  \n",
       "std     12.670445    16.917551  \n",
       "min      0.000000     0.000000  \n",
       "25%     21.000000    35.000000  \n",
       "50%     30.000000    44.500000  \n",
       "75%     35.000000    53.500000  \n",
       "max     45.000000    72.000000  "
      ]
     },
     "execution_count": 39,
     "metadata": {},
     "output_type": "execute_result"
    }
   ],
   "source": [
    "df_sess.describe()"
   ]
  },
  {
   "cell_type": "code",
   "execution_count": 40,
   "id": "f036350e",
   "metadata": {
    "_cell_guid": "687d5dd6-13d6-42a6-a561-46bf2745cdac",
    "_uuid": "fa8a4e8a-0904-4677-93f2-8f322f9564f1",
    "collapsed": false,
    "execution": {
     "iopub.execute_input": "2024-06-13T07:10:24.861831Z",
     "iopub.status.busy": "2024-06-13T07:10:24.861468Z",
     "iopub.status.idle": "2024-06-13T07:10:24.877894Z",
     "shell.execute_reply": "2024-06-13T07:10:24.877000Z"
    },
    "jupyter": {
     "outputs_hidden": false
    },
    "papermill": {
     "duration": 0.042385,
     "end_time": "2024-06-13T07:10:24.879983",
     "exception": false,
     "start_time": "2024-06-13T07:10:24.837598",
     "status": "completed"
    },
    "tags": []
   },
   "outputs": [
    {
     "data": {
      "text/html": [
       "<div>\n",
       "<style scoped>\n",
       "    .dataframe tbody tr th:only-of-type {\n",
       "        vertical-align: middle;\n",
       "    }\n",
       "\n",
       "    .dataframe tbody tr th {\n",
       "        vertical-align: top;\n",
       "    }\n",
       "\n",
       "    .dataframe thead th {\n",
       "        text-align: right;\n",
       "    }\n",
       "</style>\n",
       "<table border=\"1\" class=\"dataframe\">\n",
       "  <thead>\n",
       "    <tr style=\"text-align: right;\">\n",
       "      <th></th>\n",
       "      <th>Quize_01</th>\n",
       "      <th>Quize_02</th>\n",
       "      <th>Quize_Avg</th>\n",
       "      <th>Ass_01</th>\n",
       "      <th>Ass_02</th>\n",
       "      <th>Ass_Avg</th>\n",
       "      <th>Mid_Term</th>\n",
       "      <th>Final_Marks</th>\n",
       "    </tr>\n",
       "  </thead>\n",
       "  <tbody>\n",
       "    <tr>\n",
       "      <th>1</th>\n",
       "      <td>14.0</td>\n",
       "      <td>14.0</td>\n",
       "      <td>14.0</td>\n",
       "      <td>13.0</td>\n",
       "      <td>13.0</td>\n",
       "      <td>13.0</td>\n",
       "      <td>41.0</td>\n",
       "      <td>68.0</td>\n",
       "    </tr>\n",
       "    <tr>\n",
       "      <th>2</th>\n",
       "      <td>4.0</td>\n",
       "      <td>10.0</td>\n",
       "      <td>7.0</td>\n",
       "      <td>4.0</td>\n",
       "      <td>5.0</td>\n",
       "      <td>4.5</td>\n",
       "      <td>30.0</td>\n",
       "      <td>41.5</td>\n",
       "    </tr>\n",
       "    <tr>\n",
       "      <th>3</th>\n",
       "      <td>15.0</td>\n",
       "      <td>11.0</td>\n",
       "      <td>13.0</td>\n",
       "      <td>14.0</td>\n",
       "      <td>13.0</td>\n",
       "      <td>13.5</td>\n",
       "      <td>34.0</td>\n",
       "      <td>60.5</td>\n",
       "    </tr>\n",
       "    <tr>\n",
       "      <th>4</th>\n",
       "      <td>6.0</td>\n",
       "      <td>5.0</td>\n",
       "      <td>5.5</td>\n",
       "      <td>4.0</td>\n",
       "      <td>6.0</td>\n",
       "      <td>5.0</td>\n",
       "      <td>12.0</td>\n",
       "      <td>22.5</td>\n",
       "    </tr>\n",
       "    <tr>\n",
       "      <th>5</th>\n",
       "      <td>5.0</td>\n",
       "      <td>11.0</td>\n",
       "      <td>8.0</td>\n",
       "      <td>4.0</td>\n",
       "      <td>5.0</td>\n",
       "      <td>4.5</td>\n",
       "      <td>34.0</td>\n",
       "      <td>46.5</td>\n",
       "    </tr>\n",
       "  </tbody>\n",
       "</table>\n",
       "</div>"
      ],
      "text/plain": [
       "   Quize_01  Quize_02  Quize_Avg  Ass_01  Ass_02  Ass_Avg  Mid_Term  \\\n",
       "1      14.0      14.0       14.0    13.0    13.0     13.0      41.0   \n",
       "2       4.0      10.0        7.0     4.0     5.0      4.5      30.0   \n",
       "3      15.0      11.0       13.0    14.0    13.0     13.5      34.0   \n",
       "4       6.0       5.0        5.5     4.0     6.0      5.0      12.0   \n",
       "5       5.0      11.0        8.0     4.0     5.0      4.5      34.0   \n",
       "\n",
       "   Final_Marks  \n",
       "1         68.0  \n",
       "2         41.5  \n",
       "3         60.5  \n",
       "4         22.5  \n",
       "5         46.5  "
      ]
     },
     "execution_count": 40,
     "metadata": {},
     "output_type": "execute_result"
    }
   ],
   "source": [
    "df_sess.head()"
   ]
  },
  {
   "cell_type": "code",
   "execution_count": 41,
   "id": "38ff9ae0",
   "metadata": {
    "execution": {
     "iopub.execute_input": "2024-06-13T07:10:24.926561Z",
     "iopub.status.busy": "2024-06-13T07:10:24.926200Z",
     "iopub.status.idle": "2024-06-13T07:10:24.939463Z",
     "shell.execute_reply": "2024-06-13T07:10:24.938481Z"
    },
    "papermill": {
     "duration": 0.039057,
     "end_time": "2024-06-13T07:10:24.941579",
     "exception": false,
     "start_time": "2024-06-13T07:10:24.902522",
     "status": "completed"
    },
    "tags": []
   },
   "outputs": [
    {
     "data": {
      "text/html": [
       "<div>\n",
       "<style scoped>\n",
       "    .dataframe tbody tr th:only-of-type {\n",
       "        vertical-align: middle;\n",
       "    }\n",
       "\n",
       "    .dataframe tbody tr th {\n",
       "        vertical-align: top;\n",
       "    }\n",
       "\n",
       "    .dataframe thead th {\n",
       "        text-align: right;\n",
       "    }\n",
       "</style>\n",
       "<table border=\"1\" class=\"dataframe\">\n",
       "  <thead>\n",
       "    <tr style=\"text-align: right;\">\n",
       "      <th></th>\n",
       "      <th>Sess_Sum</th>\n",
       "      <th>Terminal</th>\n",
       "      <th>Total_150</th>\n",
       "      <th>Percentage</th>\n",
       "      <th>GP</th>\n",
       "    </tr>\n",
       "  </thead>\n",
       "  <tbody>\n",
       "    <tr>\n",
       "      <th>1</th>\n",
       "      <td>68.0</td>\n",
       "      <td>55.0</td>\n",
       "      <td>123.0</td>\n",
       "      <td>82.000000</td>\n",
       "      <td>4.0</td>\n",
       "    </tr>\n",
       "    <tr>\n",
       "      <th>2</th>\n",
       "      <td>41.5</td>\n",
       "      <td>45.0</td>\n",
       "      <td>86.5</td>\n",
       "      <td>57.666667</td>\n",
       "      <td>2.5</td>\n",
       "    </tr>\n",
       "    <tr>\n",
       "      <th>3</th>\n",
       "      <td>60.5</td>\n",
       "      <td>58.0</td>\n",
       "      <td>118.5</td>\n",
       "      <td>79.000000</td>\n",
       "      <td>3.9</td>\n",
       "    </tr>\n",
       "    <tr>\n",
       "      <th>4</th>\n",
       "      <td>22.5</td>\n",
       "      <td>44.0</td>\n",
       "      <td>66.5</td>\n",
       "      <td>44.333333</td>\n",
       "      <td>0.0</td>\n",
       "    </tr>\n",
       "    <tr>\n",
       "      <th>5</th>\n",
       "      <td>46.5</td>\n",
       "      <td>35.0</td>\n",
       "      <td>81.5</td>\n",
       "      <td>54.333333</td>\n",
       "      <td>2.2</td>\n",
       "    </tr>\n",
       "  </tbody>\n",
       "</table>\n",
       "</div>"
      ],
      "text/plain": [
       "   Sess_Sum  Terminal  Total_150  Percentage   GP\n",
       "1      68.0      55.0      123.0   82.000000  4.0\n",
       "2      41.5      45.0       86.5   57.666667  2.5\n",
       "3      60.5      58.0      118.5   79.000000  3.9\n",
       "4      22.5      44.0       66.5   44.333333  0.0\n",
       "5      46.5      35.0       81.5   54.333333  2.2"
      ]
     },
     "execution_count": 41,
     "metadata": {},
     "output_type": "execute_result"
    }
   ],
   "source": [
    "df_final.head()"
   ]
  },
  {
   "cell_type": "markdown",
   "id": "1addc129",
   "metadata": {
    "papermill": {
     "duration": 0.022924,
     "end_time": "2024-06-13T07:10:24.987031",
     "exception": false,
     "start_time": "2024-06-13T07:10:24.964107",
     "status": "completed"
    },
    "tags": []
   },
   "source": [
    "**Checking and removing leading/trailing whitespaces in the DataFrame**"
   ]
  },
  {
   "cell_type": "code",
   "execution_count": 42,
   "id": "89968676",
   "metadata": {
    "_cell_guid": "4a0679c6-e1e2-4974-a961-013dbf46c76d",
    "_uuid": "d6cd40be-154d-4bb1-b009-fc24829ae383",
    "collapsed": false,
    "execution": {
     "iopub.execute_input": "2024-06-13T07:10:25.034323Z",
     "iopub.status.busy": "2024-06-13T07:10:25.033458Z",
     "iopub.status.idle": "2024-06-13T07:10:25.039853Z",
     "shell.execute_reply": "2024-06-13T07:10:25.038937Z"
    },
    "jupyter": {
     "outputs_hidden": false
    },
    "papermill": {
     "duration": 0.032334,
     "end_time": "2024-06-13T07:10:25.041842",
     "exception": false,
     "start_time": "2024-06-13T07:10:25.009508",
     "status": "completed"
    },
    "tags": []
   },
   "outputs": [],
   "source": [
    "# Function to chack any whitespaces\n",
    "\n",
    "def whitespaces(df):\n",
    "    # Check for leading/trailing whitespaces in the DataFrame\n",
    "\n",
    "    whitespace_issues = {}\n",
    "\n",
    "    for column in df.columns:\n",
    "    \n",
    "        has_whitespace = df[column].apply(lambda x: isinstance(x, str) and (x != x.strip())).any()\n",
    "    \n",
    "        whitespace_issues[column] = has_whitespace\n",
    "\n",
    "    # Print summary of columns with whitespace issues\n",
    "\n",
    "    for column, has_whitespace in whitespace_issues.items():\n",
    "        if has_whitespace:\n",
    "            print(f\"Columns with leading/trailing whitespace:- {column}\")\n",
    "\n",
    "    # Ensure there are no whitespaces\n",
    "\n",
    "    if not any(whitespace_issues.values()):\n",
    "        print(\"No leading or trailing whitespaces found in the dataset.\")"
   ]
  },
  {
   "cell_type": "code",
   "execution_count": 43,
   "id": "2334e640",
   "metadata": {
    "execution": {
     "iopub.execute_input": "2024-06-13T07:10:25.088637Z",
     "iopub.status.busy": "2024-06-13T07:10:25.088262Z",
     "iopub.status.idle": "2024-06-13T07:10:25.095800Z",
     "shell.execute_reply": "2024-06-13T07:10:25.094801Z"
    },
    "papermill": {
     "duration": 0.033829,
     "end_time": "2024-06-13T07:10:25.098532",
     "exception": false,
     "start_time": "2024-06-13T07:10:25.064703",
     "status": "completed"
    },
    "tags": []
   },
   "outputs": [
    {
     "name": "stdout",
     "output_type": "stream",
     "text": [
      "No leading or trailing whitespaces found in the dataset.\n"
     ]
    }
   ],
   "source": [
    "whitespaces(df_sess)"
   ]
  },
  {
   "cell_type": "code",
   "execution_count": 44,
   "id": "8ea04887",
   "metadata": {
    "execution": {
     "iopub.execute_input": "2024-06-13T07:10:25.145692Z",
     "iopub.status.busy": "2024-06-13T07:10:25.145059Z",
     "iopub.status.idle": "2024-06-13T07:10:25.151270Z",
     "shell.execute_reply": "2024-06-13T07:10:25.150375Z"
    },
    "papermill": {
     "duration": 0.032693,
     "end_time": "2024-06-13T07:10:25.154125",
     "exception": false,
     "start_time": "2024-06-13T07:10:25.121432",
     "status": "completed"
    },
    "tags": []
   },
   "outputs": [
    {
     "name": "stdout",
     "output_type": "stream",
     "text": [
      "No leading or trailing whitespaces found in the dataset.\n"
     ]
    }
   ],
   "source": [
    "whitespaces(df_final)"
   ]
  },
  {
   "cell_type": "code",
   "execution_count": 45,
   "id": "e6177a95",
   "metadata": {
    "_cell_guid": "2315695a-62bd-4f20-8b0c-a9b8cbd8fb3b",
    "_uuid": "a5c0c07b-9286-4eee-8e6b-d8dbd8a350fc",
    "collapsed": false,
    "execution": {
     "iopub.execute_input": "2024-06-13T07:10:25.201424Z",
     "iopub.status.busy": "2024-06-13T07:10:25.200565Z",
     "iopub.status.idle": "2024-06-13T07:10:25.205396Z",
     "shell.execute_reply": "2024-06-13T07:10:25.204467Z"
    },
    "jupyter": {
     "outputs_hidden": false
    },
    "papermill": {
     "duration": 0.031086,
     "end_time": "2024-06-13T07:10:25.207902",
     "exception": false,
     "start_time": "2024-06-13T07:10:25.176816",
     "status": "completed"
    },
    "tags": []
   },
   "outputs": [
    {
     "name": "stdout",
     "output_type": "stream",
     "text": [
      "(224, 8)\n",
      "(234, 5)\n"
     ]
    }
   ],
   "source": [
    "print(df_sess.shape)\n",
    "print(df_final.shape)"
   ]
  },
  {
   "cell_type": "markdown",
   "id": "5f062e37",
   "metadata": {
    "papermill": {
     "duration": 0.022376,
     "end_time": "2024-06-13T07:10:25.252895",
     "exception": false,
     "start_time": "2024-06-13T07:10:25.230519",
     "status": "completed"
    },
    "tags": []
   },
   "source": [
    "**There are 10 rows difference between the two data set. Let say, last 10 students does not appeared the sessional exams. Therefore, removing last 10 rows from df_final**"
   ]
  },
  {
   "cell_type": "code",
   "execution_count": 46,
   "id": "4ccfcbac",
   "metadata": {
    "execution": {
     "iopub.execute_input": "2024-06-13T07:10:25.299519Z",
     "iopub.status.busy": "2024-06-13T07:10:25.298760Z",
     "iopub.status.idle": "2024-06-13T07:10:25.303600Z",
     "shell.execute_reply": "2024-06-13T07:10:25.302681Z"
    },
    "papermill": {
     "duration": 0.030398,
     "end_time": "2024-06-13T07:10:25.305669",
     "exception": false,
     "start_time": "2024-06-13T07:10:25.275271",
     "status": "completed"
    },
    "tags": []
   },
   "outputs": [],
   "source": [
    "# Remove the last 10 rows\n",
    "\n",
    "df_final = df_final.iloc[:-10]"
   ]
  },
  {
   "cell_type": "code",
   "execution_count": 47,
   "id": "2dc4cdd1",
   "metadata": {
    "execution": {
     "iopub.execute_input": "2024-06-13T07:10:25.351915Z",
     "iopub.status.busy": "2024-06-13T07:10:25.351205Z",
     "iopub.status.idle": "2024-06-13T07:10:25.356102Z",
     "shell.execute_reply": "2024-06-13T07:10:25.355129Z"
    },
    "papermill": {
     "duration": 0.030186,
     "end_time": "2024-06-13T07:10:25.358116",
     "exception": false,
     "start_time": "2024-06-13T07:10:25.327930",
     "status": "completed"
    },
    "tags": []
   },
   "outputs": [
    {
     "name": "stdout",
     "output_type": "stream",
     "text": [
      "(224, 8)\n",
      "(224, 5)\n"
     ]
    }
   ],
   "source": [
    "# After removing last 10 rows\n",
    "\n",
    "print(df_sess.shape)\n",
    "print(df_final.shape)"
   ]
  },
  {
   "cell_type": "code",
   "execution_count": 48,
   "id": "64b18c76",
   "metadata": {
    "_cell_guid": "531dc2c2-c18a-4992-86fe-0748a52b2261",
    "_uuid": "e87aa1f9-3e99-42e5-8c73-7edae0672b64",
    "collapsed": false,
    "execution": {
     "iopub.execute_input": "2024-06-13T07:10:25.404134Z",
     "iopub.status.busy": "2024-06-13T07:10:25.403817Z",
     "iopub.status.idle": "2024-06-13T07:10:25.409143Z",
     "shell.execute_reply": "2024-06-13T07:10:25.408258Z"
    },
    "jupyter": {
     "outputs_hidden": false
    },
    "papermill": {
     "duration": 0.030664,
     "end_time": "2024-06-13T07:10:25.411192",
     "exception": false,
     "start_time": "2024-06-13T07:10:25.380528",
     "status": "completed"
    },
    "tags": []
   },
   "outputs": [
    {
     "name": "stdout",
     "output_type": "stream",
     "text": [
      "Index(['Quize_01', 'Quize_02', 'Quize_Avg', 'Ass_01', 'Ass_02', 'Ass_Avg',\n",
      "       'Mid_Term', 'Final_Marks'],\n",
      "      dtype='object') \n",
      " Index(['Sess_Sum', 'Terminal', 'Total_150', 'Percentage', 'GP'], dtype='object')\n"
     ]
    }
   ],
   "source": [
    "print(df_sess.columns,'\\n', df_final.columns)"
   ]
  },
  {
   "cell_type": "markdown",
   "id": "728c09af",
   "metadata": {
    "papermill": {
     "duration": 0.022231,
     "end_time": "2024-06-13T07:10:25.455848",
     "exception": false,
     "start_time": "2024-06-13T07:10:25.433617",
     "status": "completed"
    },
    "tags": []
   },
   "source": [
    "**Checking the shape of all columns**"
   ]
  },
  {
   "cell_type": "code",
   "execution_count": 49,
   "id": "32c670a9",
   "metadata": {
    "_cell_guid": "51b0194e-e46d-4a7d-ae55-e8409c23ac64",
    "_uuid": "5e0d454e-0a15-4185-931e-6a5fce082e81",
    "collapsed": false,
    "execution": {
     "iopub.execute_input": "2024-06-13T07:10:25.501990Z",
     "iopub.status.busy": "2024-06-13T07:10:25.501661Z",
     "iopub.status.idle": "2024-06-13T07:10:25.506100Z",
     "shell.execute_reply": "2024-06-13T07:10:25.505174Z"
    },
    "jupyter": {
     "outputs_hidden": false
    },
    "papermill": {
     "duration": 0.029734,
     "end_time": "2024-06-13T07:10:25.508054",
     "exception": false,
     "start_time": "2024-06-13T07:10:25.478320",
     "status": "completed"
    },
    "tags": []
   },
   "outputs": [],
   "source": [
    "# Funtion to check the shape\n",
    "\n",
    "def shape(df):\n",
    "    for i in df.columns:\n",
    "        print(df[f'{i}'].shape)"
   ]
  },
  {
   "cell_type": "code",
   "execution_count": 50,
   "id": "0c27b950",
   "metadata": {
    "_cell_guid": "34eeeb4e-21d1-4dc1-8664-f741160798c7",
    "_uuid": "5bca8b43-723c-4d31-974e-2d1f1f81d072",
    "collapsed": false,
    "execution": {
     "iopub.execute_input": "2024-06-13T07:10:25.554226Z",
     "iopub.status.busy": "2024-06-13T07:10:25.553927Z",
     "iopub.status.idle": "2024-06-13T07:10:25.558411Z",
     "shell.execute_reply": "2024-06-13T07:10:25.557551Z"
    },
    "jupyter": {
     "outputs_hidden": false
    },
    "papermill": {
     "duration": 0.030472,
     "end_time": "2024-06-13T07:10:25.560945",
     "exception": false,
     "start_time": "2024-06-13T07:10:25.530473",
     "status": "completed"
    },
    "tags": []
   },
   "outputs": [
    {
     "name": "stdout",
     "output_type": "stream",
     "text": [
      "(224,)\n",
      "(224,)\n",
      "(224,)\n",
      "(224,)\n",
      "(224,)\n",
      "(224,)\n",
      "(224,)\n",
      "(224,)\n"
     ]
    }
   ],
   "source": [
    "shape(df_sess)"
   ]
  },
  {
   "cell_type": "code",
   "execution_count": 51,
   "id": "ea225c7a",
   "metadata": {
    "execution": {
     "iopub.execute_input": "2024-06-13T07:10:25.607757Z",
     "iopub.status.busy": "2024-06-13T07:10:25.607422Z",
     "iopub.status.idle": "2024-06-13T07:10:25.612147Z",
     "shell.execute_reply": "2024-06-13T07:10:25.611265Z"
    },
    "papermill": {
     "duration": 0.030573,
     "end_time": "2024-06-13T07:10:25.614082",
     "exception": false,
     "start_time": "2024-06-13T07:10:25.583509",
     "status": "completed"
    },
    "tags": []
   },
   "outputs": [
    {
     "name": "stdout",
     "output_type": "stream",
     "text": [
      "(224,)\n",
      "(224,)\n",
      "(224,)\n",
      "(224,)\n",
      "(224,)\n"
     ]
    }
   ],
   "source": [
    "shape(df_final)"
   ]
  },
  {
   "cell_type": "markdown",
   "id": "06bd6741",
   "metadata": {
    "papermill": {
     "duration": 0.022434,
     "end_time": "2024-06-13T07:10:25.659051",
     "exception": false,
     "start_time": "2024-06-13T07:10:25.636617",
     "status": "completed"
    },
    "tags": []
   },
   "source": [
    "**Adding one more feature in df_sess from df_final**"
   ]
  },
  {
   "cell_type": "code",
   "execution_count": 52,
   "id": "bf5155e0",
   "metadata": {
    "execution": {
     "iopub.execute_input": "2024-06-13T07:10:25.705688Z",
     "iopub.status.busy": "2024-06-13T07:10:25.705337Z",
     "iopub.status.idle": "2024-06-13T07:10:25.710453Z",
     "shell.execute_reply": "2024-06-13T07:10:25.709551Z"
    },
    "papermill": {
     "duration": 0.030849,
     "end_time": "2024-06-13T07:10:25.712469",
     "exception": false,
     "start_time": "2024-06-13T07:10:25.681620",
     "status": "completed"
    },
    "tags": []
   },
   "outputs": [],
   "source": [
    "df_sess['Percentage'] = df_final['Percentage']"
   ]
  },
  {
   "cell_type": "code",
   "execution_count": 53,
   "id": "df84ab96",
   "metadata": {
    "execution": {
     "iopub.execute_input": "2024-06-13T07:10:25.758869Z",
     "iopub.status.busy": "2024-06-13T07:10:25.758536Z",
     "iopub.status.idle": "2024-06-13T07:10:25.774262Z",
     "shell.execute_reply": "2024-06-13T07:10:25.773367Z"
    },
    "papermill": {
     "duration": 0.041372,
     "end_time": "2024-06-13T07:10:25.776358",
     "exception": false,
     "start_time": "2024-06-13T07:10:25.734986",
     "status": "completed"
    },
    "tags": []
   },
   "outputs": [
    {
     "data": {
      "text/html": [
       "<div>\n",
       "<style scoped>\n",
       "    .dataframe tbody tr th:only-of-type {\n",
       "        vertical-align: middle;\n",
       "    }\n",
       "\n",
       "    .dataframe tbody tr th {\n",
       "        vertical-align: top;\n",
       "    }\n",
       "\n",
       "    .dataframe thead th {\n",
       "        text-align: right;\n",
       "    }\n",
       "</style>\n",
       "<table border=\"1\" class=\"dataframe\">\n",
       "  <thead>\n",
       "    <tr style=\"text-align: right;\">\n",
       "      <th></th>\n",
       "      <th>Quize_01</th>\n",
       "      <th>Quize_02</th>\n",
       "      <th>Quize_Avg</th>\n",
       "      <th>Ass_01</th>\n",
       "      <th>Ass_02</th>\n",
       "      <th>Ass_Avg</th>\n",
       "      <th>Mid_Term</th>\n",
       "      <th>Final_Marks</th>\n",
       "      <th>Percentage</th>\n",
       "    </tr>\n",
       "  </thead>\n",
       "  <tbody>\n",
       "    <tr>\n",
       "      <th>1</th>\n",
       "      <td>14.0</td>\n",
       "      <td>14.0</td>\n",
       "      <td>14.0</td>\n",
       "      <td>13.0</td>\n",
       "      <td>13.0</td>\n",
       "      <td>13.0</td>\n",
       "      <td>41.0</td>\n",
       "      <td>68.0</td>\n",
       "      <td>82.000000</td>\n",
       "    </tr>\n",
       "    <tr>\n",
       "      <th>2</th>\n",
       "      <td>4.0</td>\n",
       "      <td>10.0</td>\n",
       "      <td>7.0</td>\n",
       "      <td>4.0</td>\n",
       "      <td>5.0</td>\n",
       "      <td>4.5</td>\n",
       "      <td>30.0</td>\n",
       "      <td>41.5</td>\n",
       "      <td>57.666667</td>\n",
       "    </tr>\n",
       "    <tr>\n",
       "      <th>3</th>\n",
       "      <td>15.0</td>\n",
       "      <td>11.0</td>\n",
       "      <td>13.0</td>\n",
       "      <td>14.0</td>\n",
       "      <td>13.0</td>\n",
       "      <td>13.5</td>\n",
       "      <td>34.0</td>\n",
       "      <td>60.5</td>\n",
       "      <td>79.000000</td>\n",
       "    </tr>\n",
       "    <tr>\n",
       "      <th>4</th>\n",
       "      <td>6.0</td>\n",
       "      <td>5.0</td>\n",
       "      <td>5.5</td>\n",
       "      <td>4.0</td>\n",
       "      <td>6.0</td>\n",
       "      <td>5.0</td>\n",
       "      <td>12.0</td>\n",
       "      <td>22.5</td>\n",
       "      <td>44.333333</td>\n",
       "    </tr>\n",
       "    <tr>\n",
       "      <th>5</th>\n",
       "      <td>5.0</td>\n",
       "      <td>11.0</td>\n",
       "      <td>8.0</td>\n",
       "      <td>4.0</td>\n",
       "      <td>5.0</td>\n",
       "      <td>4.5</td>\n",
       "      <td>34.0</td>\n",
       "      <td>46.5</td>\n",
       "      <td>54.333333</td>\n",
       "    </tr>\n",
       "  </tbody>\n",
       "</table>\n",
       "</div>"
      ],
      "text/plain": [
       "   Quize_01  Quize_02  Quize_Avg  Ass_01  Ass_02  Ass_Avg  Mid_Term  \\\n",
       "1      14.0      14.0       14.0    13.0    13.0     13.0      41.0   \n",
       "2       4.0      10.0        7.0     4.0     5.0      4.5      30.0   \n",
       "3      15.0      11.0       13.0    14.0    13.0     13.5      34.0   \n",
       "4       6.0       5.0        5.5     4.0     6.0      5.0      12.0   \n",
       "5       5.0      11.0        8.0     4.0     5.0      4.5      34.0   \n",
       "\n",
       "   Final_Marks  Percentage  \n",
       "1         68.0   82.000000  \n",
       "2         41.5   57.666667  \n",
       "3         60.5   79.000000  \n",
       "4         22.5   44.333333  \n",
       "5         46.5   54.333333  "
      ]
     },
     "execution_count": 53,
     "metadata": {},
     "output_type": "execute_result"
    }
   ],
   "source": [
    "df_sess.head()"
   ]
  },
  {
   "cell_type": "markdown",
   "id": "78bc2ccd",
   "metadata": {
    "papermill": {
     "duration": 0.022566,
     "end_time": "2024-06-13T07:10:25.823230",
     "exception": false,
     "start_time": "2024-06-13T07:10:25.800664",
     "status": "completed"
    },
    "tags": []
   },
   "source": [
    "# Define Target Variable (y) and Feature Variables (X)"
   ]
  },
  {
   "cell_type": "code",
   "execution_count": 54,
   "id": "e78e2a03",
   "metadata": {
    "execution": {
     "iopub.execute_input": "2024-06-13T07:10:25.870354Z",
     "iopub.status.busy": "2024-06-13T07:10:25.870012Z",
     "iopub.status.idle": "2024-06-13T07:10:25.875954Z",
     "shell.execute_reply": "2024-06-13T07:10:25.875059Z"
    },
    "papermill": {
     "duration": 0.031787,
     "end_time": "2024-06-13T07:10:25.877883",
     "exception": false,
     "start_time": "2024-06-13T07:10:25.846096",
     "status": "completed"
    },
    "tags": []
   },
   "outputs": [
    {
     "data": {
      "text/plain": [
       "Index(['Quize_01', 'Quize_02', 'Quize_Avg', 'Ass_01', 'Ass_02', 'Ass_Avg',\n",
       "       'Mid_Term', 'Final_Marks', 'Percentage'],\n",
       "      dtype='object')"
      ]
     },
     "execution_count": 54,
     "metadata": {},
     "output_type": "execute_result"
    }
   ],
   "source": [
    "df_sess.columns"
   ]
  },
  {
   "cell_type": "code",
   "execution_count": 55,
   "id": "2c94c250",
   "metadata": {
    "_cell_guid": "36a72ae9-9a49-45a5-8ecd-65e6d8c8c807",
    "_uuid": "c2d1735d-dfbc-4dee-b424-4eeeb44d62d5",
    "collapsed": false,
    "execution": {
     "iopub.execute_input": "2024-06-13T07:10:25.925739Z",
     "iopub.status.busy": "2024-06-13T07:10:25.924928Z",
     "iopub.status.idle": "2024-06-13T07:10:25.930719Z",
     "shell.execute_reply": "2024-06-13T07:10:25.929763Z"
    },
    "jupyter": {
     "outputs_hidden": false
    },
    "papermill": {
     "duration": 0.031939,
     "end_time": "2024-06-13T07:10:25.932910",
     "exception": false,
     "start_time": "2024-06-13T07:10:25.900971",
     "status": "completed"
    },
    "tags": []
   },
   "outputs": [],
   "source": [
    "y = df_sess['Percentage']\n",
    "\n",
    "X = df_sess[['Quize_01', 'Quize_02', 'Quize_Avg', 'Ass_01', 'Ass_02', 'Ass_Avg', 'Mid_Term', 'Final_Marks']]"
   ]
  },
  {
   "cell_type": "code",
   "execution_count": 56,
   "id": "7bd61f89",
   "metadata": {
    "_cell_guid": "19b4d169-f023-42c5-9653-b84d9b1b3bee",
    "_uuid": "1106d307-049b-4fc6-8c29-4cd319c2827c",
    "collapsed": false,
    "execution": {
     "iopub.execute_input": "2024-06-13T07:10:25.980400Z",
     "iopub.status.busy": "2024-06-13T07:10:25.979842Z",
     "iopub.status.idle": "2024-06-13T07:10:25.985610Z",
     "shell.execute_reply": "2024-06-13T07:10:25.984748Z"
    },
    "jupyter": {
     "outputs_hidden": false
    },
    "papermill": {
     "duration": 0.031654,
     "end_time": "2024-06-13T07:10:25.987649",
     "exception": false,
     "start_time": "2024-06-13T07:10:25.955995",
     "status": "completed"
    },
    "tags": []
   },
   "outputs": [
    {
     "data": {
      "text/plain": [
       "((224, 8), (224,))"
      ]
     },
     "execution_count": 56,
     "metadata": {},
     "output_type": "execute_result"
    }
   ],
   "source": [
    "X.shape, y.shape"
   ]
  },
  {
   "cell_type": "code",
   "execution_count": 57,
   "id": "6e5ef30f",
   "metadata": {
    "_cell_guid": "19161984-8919-43ea-a013-994940a2059e",
    "_uuid": "be0621ac-f094-45fe-81e5-1ea2af86d964",
    "collapsed": false,
    "execution": {
     "iopub.execute_input": "2024-06-13T07:10:26.036059Z",
     "iopub.status.busy": "2024-06-13T07:10:26.035310Z",
     "iopub.status.idle": "2024-06-13T07:10:26.047762Z",
     "shell.execute_reply": "2024-06-13T07:10:26.046846Z"
    },
    "jupyter": {
     "outputs_hidden": false
    },
    "papermill": {
     "duration": 0.038992,
     "end_time": "2024-06-13T07:10:26.049777",
     "exception": false,
     "start_time": "2024-06-13T07:10:26.010785",
     "status": "completed"
    },
    "tags": []
   },
   "outputs": [
    {
     "data": {
      "text/plain": [
       "(224, 224)"
      ]
     },
     "execution_count": 57,
     "metadata": {},
     "output_type": "execute_result"
    }
   ],
   "source": [
    "X.value_counts().sum(), y.value_counts().sum()"
   ]
  },
  {
   "cell_type": "markdown",
   "id": "1bbdc81d",
   "metadata": {
    "papermill": {
     "duration": 0.023047,
     "end_time": "2024-06-13T07:10:26.096199",
     "exception": false,
     "start_time": "2024-06-13T07:10:26.073152",
     "status": "completed"
    },
    "tags": []
   },
   "source": [
    "# Train Test Split"
   ]
  },
  {
   "cell_type": "code",
   "execution_count": 58,
   "id": "f2b4d32a",
   "metadata": {
    "_cell_guid": "d43a5d60-e1b1-4c83-9360-9c34553b86e4",
    "_uuid": "995722e8-aae7-423e-b765-414aea6c6fd9",
    "collapsed": false,
    "execution": {
     "iopub.execute_input": "2024-06-13T07:10:26.144146Z",
     "iopub.status.busy": "2024-06-13T07:10:26.143477Z",
     "iopub.status.idle": "2024-06-13T07:10:27.132013Z",
     "shell.execute_reply": "2024-06-13T07:10:27.131154Z"
    },
    "jupyter": {
     "outputs_hidden": false
    },
    "papermill": {
     "duration": 1.015207,
     "end_time": "2024-06-13T07:10:27.134462",
     "exception": false,
     "start_time": "2024-06-13T07:10:26.119255",
     "status": "completed"
    },
    "tags": []
   },
   "outputs": [],
   "source": [
    "from sklearn.model_selection import train_test_split"
   ]
  },
  {
   "cell_type": "code",
   "execution_count": 59,
   "id": "09897116",
   "metadata": {
    "_cell_guid": "4b56b183-01f0-4a46-b781-60d2fa1c1002",
    "_uuid": "120a4cc7-c6fa-4144-994d-a852b81b4336",
    "collapsed": false,
    "execution": {
     "iopub.execute_input": "2024-06-13T07:10:27.184091Z",
     "iopub.status.busy": "2024-06-13T07:10:27.183198Z",
     "iopub.status.idle": "2024-06-13T07:10:27.191475Z",
     "shell.execute_reply": "2024-06-13T07:10:27.190538Z"
    },
    "jupyter": {
     "outputs_hidden": false
    },
    "papermill": {
     "duration": 0.035161,
     "end_time": "2024-06-13T07:10:27.193422",
     "exception": false,
     "start_time": "2024-06-13T07:10:27.158261",
     "status": "completed"
    },
    "tags": []
   },
   "outputs": [],
   "source": [
    "X_train, X_test, y_train, y_test = train_test_split(X, y, train_size = 0.7, \n",
    "                                                    random_state = 2529)"
   ]
  },
  {
   "cell_type": "markdown",
   "id": "8364b8d8",
   "metadata": {
    "papermill": {
     "duration": 0.023132,
     "end_time": "2024-06-13T07:10:27.239994",
     "exception": false,
     "start_time": "2024-06-13T07:10:27.216862",
     "status": "completed"
    },
    "tags": []
   },
   "source": [
    "# Model Evaluation"
   ]
  },
  {
   "cell_type": "code",
   "execution_count": 60,
   "id": "c351037c",
   "metadata": {
    "_cell_guid": "1d92d64c-4775-4296-821d-03658be4ad85",
    "_uuid": "e907b899-9c1e-4bff-9f84-a446efa2e752",
    "collapsed": false,
    "execution": {
     "iopub.execute_input": "2024-06-13T07:10:27.288960Z",
     "iopub.status.busy": "2024-06-13T07:10:27.287904Z",
     "iopub.status.idle": "2024-06-13T07:10:27.445199Z",
     "shell.execute_reply": "2024-06-13T07:10:27.444157Z"
    },
    "jupyter": {
     "outputs_hidden": false
    },
    "papermill": {
     "duration": 0.18427,
     "end_time": "2024-06-13T07:10:27.447564",
     "exception": false,
     "start_time": "2024-06-13T07:10:27.263294",
     "status": "completed"
    },
    "tags": []
   },
   "outputs": [],
   "source": [
    "from sklearn.tree import DecisionTreeRegressor\n",
    "\n",
    "model = DecisionTreeRegressor()"
   ]
  },
  {
   "cell_type": "code",
   "execution_count": 61,
   "id": "82f5cf74",
   "metadata": {
    "_cell_guid": "0911b4c2-a65b-4dc3-9fd1-86327e1ac57b",
    "_uuid": "4661cde2-e7ed-4bd3-ba71-510db9a23c1a",
    "collapsed": false,
    "execution": {
     "iopub.execute_input": "2024-06-13T07:10:27.497669Z",
     "iopub.status.busy": "2024-06-13T07:10:27.496984Z",
     "iopub.status.idle": "2024-06-13T07:10:27.505115Z",
     "shell.execute_reply": "2024-06-13T07:10:27.504182Z"
    },
    "jupyter": {
     "outputs_hidden": false
    },
    "papermill": {
     "duration": 0.03596,
     "end_time": "2024-06-13T07:10:27.507002",
     "exception": false,
     "start_time": "2024-06-13T07:10:27.471042",
     "status": "completed"
    },
    "tags": []
   },
   "outputs": [],
   "source": [
    "model = model.fit(X_train, y_train)"
   ]
  },
  {
   "cell_type": "markdown",
   "id": "8e7dea5b",
   "metadata": {
    "papermill": {
     "duration": 0.022759,
     "end_time": "2024-06-13T07:10:27.552893",
     "exception": false,
     "start_time": "2024-06-13T07:10:27.530134",
     "status": "completed"
    },
    "tags": []
   },
   "source": [
    "# Prediction"
   ]
  },
  {
   "cell_type": "code",
   "execution_count": 62,
   "id": "77d83137",
   "metadata": {
    "_cell_guid": "e20b7e4a-dffc-423c-a871-24060e1860a0",
    "_uuid": "e627caac-50f2-41d6-bdaa-66e6b29ad38b",
    "collapsed": false,
    "execution": {
     "iopub.execute_input": "2024-06-13T07:10:27.600424Z",
     "iopub.status.busy": "2024-06-13T07:10:27.600055Z",
     "iopub.status.idle": "2024-06-13T07:10:27.605958Z",
     "shell.execute_reply": "2024-06-13T07:10:27.605048Z"
    },
    "jupyter": {
     "outputs_hidden": false
    },
    "papermill": {
     "duration": 0.031898,
     "end_time": "2024-06-13T07:10:27.607880",
     "exception": false,
     "start_time": "2024-06-13T07:10:27.575982",
     "status": "completed"
    },
    "tags": []
   },
   "outputs": [],
   "source": [
    "y_pred = model.predict(X_test)"
   ]
  },
  {
   "cell_type": "markdown",
   "id": "b5f905f4",
   "metadata": {
    "papermill": {
     "duration": 0.022971,
     "end_time": "2024-06-13T07:10:27.654077",
     "exception": false,
     "start_time": "2024-06-13T07:10:27.631106",
     "status": "completed"
    },
    "tags": []
   },
   "source": [
    "# Accuracy"
   ]
  },
  {
   "cell_type": "code",
   "execution_count": 63,
   "id": "9f30ab92",
   "metadata": {
    "_cell_guid": "c517daa2-0c6d-4f2e-a6cd-405004857b43",
    "_uuid": "fe2565bf-a941-4b63-bc72-a608cf1eef30",
    "collapsed": false,
    "execution": {
     "iopub.execute_input": "2024-06-13T07:10:27.702297Z",
     "iopub.status.busy": "2024-06-13T07:10:27.701429Z",
     "iopub.status.idle": "2024-06-13T07:10:27.705968Z",
     "shell.execute_reply": "2024-06-13T07:10:27.705060Z"
    },
    "jupyter": {
     "outputs_hidden": false
    },
    "papermill": {
     "duration": 0.030838,
     "end_time": "2024-06-13T07:10:27.708066",
     "exception": false,
     "start_time": "2024-06-13T07:10:27.677228",
     "status": "completed"
    },
    "tags": []
   },
   "outputs": [],
   "source": [
    "from sklearn.metrics import mean_absolute_error, mean_absolute_percentage_error, r2_score"
   ]
  },
  {
   "cell_type": "code",
   "execution_count": 64,
   "id": "9eea9ec8",
   "metadata": {
    "_cell_guid": "7a7f0610-a8f0-424c-96b4-cbe6ac4ae766",
    "_uuid": "5feb4b0e-6b45-410d-9df3-cea4d002a17e",
    "collapsed": false,
    "execution": {
     "iopub.execute_input": "2024-06-13T07:10:27.756417Z",
     "iopub.status.busy": "2024-06-13T07:10:27.755601Z",
     "iopub.status.idle": "2024-06-13T07:10:27.763550Z",
     "shell.execute_reply": "2024-06-13T07:10:27.762670Z"
    },
    "jupyter": {
     "outputs_hidden": false
    },
    "papermill": {
     "duration": 0.034187,
     "end_time": "2024-06-13T07:10:27.765607",
     "exception": false,
     "start_time": "2024-06-13T07:10:27.731420",
     "status": "completed"
    },
    "tags": []
   },
   "outputs": [
    {
     "name": "stdout",
     "output_type": "stream",
     "text": [
      "15.181372549019606\n",
      "0.32552321246642046\n",
      "0.06064659588224808\n",
      "\n",
      "Accuracy: 99.67447678753358%\n"
     ]
    }
   ],
   "source": [
    "print(mean_absolute_error(y_pred, y_test))\n",
    "print(mean_absolute_percentage_error(y_pred, y_test))\n",
    "print(r2_score(y_pred, y_test))\n",
    "\n",
    "mean_absolute_percentage_error = mean_absolute_percentage_error(y_pred, y_test)\n",
    "print(f\"\\nAccuracy: {100-mean_absolute_percentage_error}%\")"
   ]
  },
  {
   "cell_type": "code",
   "execution_count": 65,
   "id": "96f53271",
   "metadata": {
    "execution": {
     "iopub.execute_input": "2024-06-13T07:10:27.815601Z",
     "iopub.status.busy": "2024-06-13T07:10:27.814947Z",
     "iopub.status.idle": "2024-06-13T07:10:27.823127Z",
     "shell.execute_reply": "2024-06-13T07:10:27.822216Z"
    },
    "papermill": {
     "duration": 0.036105,
     "end_time": "2024-06-13T07:10:27.825175",
     "exception": false,
     "start_time": "2024-06-13T07:10:27.789070",
     "status": "completed"
    },
    "tags": []
   },
   "outputs": [
    {
     "data": {
      "text/plain": [
       "['students_marks_prediction_model.pkl']"
      ]
     },
     "execution_count": 65,
     "metadata": {},
     "output_type": "execute_result"
    }
   ],
   "source": [
    "import joblib as jl\n",
    "jl.dump(model, 'students_marks_prediction_model.pkl')"
   ]
  },
  {
   "cell_type": "markdown",
   "id": "224d7574",
   "metadata": {
    "papermill": {
     "duration": 0.023309,
     "end_time": "2024-06-13T07:10:27.871913",
     "exception": false,
     "start_time": "2024-06-13T07:10:27.848604",
     "status": "completed"
    },
    "tags": []
   },
   "source": [
    "# Hyperparameter tuning"
   ]
  },
  {
   "cell_type": "code",
   "execution_count": 66,
   "id": "4a332df1",
   "metadata": {
    "execution": {
     "iopub.execute_input": "2024-06-13T07:10:27.921164Z",
     "iopub.status.busy": "2024-06-13T07:10:27.920306Z",
     "iopub.status.idle": "2024-06-13T07:10:28.078347Z",
     "shell.execute_reply": "2024-06-13T07:10:28.077349Z"
    },
    "papermill": {
     "duration": 0.185331,
     "end_time": "2024-06-13T07:10:28.080741",
     "exception": false,
     "start_time": "2024-06-13T07:10:27.895410",
     "status": "completed"
    },
    "tags": []
   },
   "outputs": [],
   "source": [
    "from sklearn.ensemble import RandomForestRegressor\n",
    "from sklearn.model_selection import GridSearchCV"
   ]
  },
  {
   "cell_type": "code",
   "execution_count": 67,
   "id": "49a82421",
   "metadata": {
    "execution": {
     "iopub.execute_input": "2024-06-13T07:10:28.130829Z",
     "iopub.status.busy": "2024-06-13T07:10:28.130007Z",
     "iopub.status.idle": "2024-06-13T07:10:28.134401Z",
     "shell.execute_reply": "2024-06-13T07:10:28.133502Z"
    },
    "papermill": {
     "duration": 0.031515,
     "end_time": "2024-06-13T07:10:28.136338",
     "exception": false,
     "start_time": "2024-06-13T07:10:28.104823",
     "status": "completed"
    },
    "tags": []
   },
   "outputs": [],
   "source": [
    "# Define the RandomForestRegressor model\n",
    "rf_model = RandomForestRegressor()"
   ]
  },
  {
   "cell_type": "code",
   "execution_count": 68,
   "id": "0ba9aefa",
   "metadata": {
    "execution": {
     "iopub.execute_input": "2024-06-13T07:10:28.185223Z",
     "iopub.status.busy": "2024-06-13T07:10:28.184447Z",
     "iopub.status.idle": "2024-06-13T07:10:28.189400Z",
     "shell.execute_reply": "2024-06-13T07:10:28.188504Z"
    },
    "papermill": {
     "duration": 0.031455,
     "end_time": "2024-06-13T07:10:28.191322",
     "exception": false,
     "start_time": "2024-06-13T07:10:28.159867",
     "status": "completed"
    },
    "tags": []
   },
   "outputs": [],
   "source": [
    "# Define the hyperparameters grid for tuning\n",
    "param_grid = {\n",
    "    'n_estimators': [50, 100, 200],            # Number of trees in the forest\n",
    "    'max_depth': [None, 10, 20],                # Maximum depth of the trees\n",
    "    'min_samples_split': [2, 5, 10],            # Minimum number of samples required to split an internal node\n",
    "    'min_samples_leaf': [1, 2, 4]               # Minimum number of samples required to be at a leaf node\n",
    "}"
   ]
  },
  {
   "cell_type": "code",
   "execution_count": 69,
   "id": "778df5a5",
   "metadata": {
    "execution": {
     "iopub.execute_input": "2024-06-13T07:10:28.240411Z",
     "iopub.status.busy": "2024-06-13T07:10:28.239768Z",
     "iopub.status.idle": "2024-06-13T07:10:28.244448Z",
     "shell.execute_reply": "2024-06-13T07:10:28.243390Z"
    },
    "papermill": {
     "duration": 0.031402,
     "end_time": "2024-06-13T07:10:28.246495",
     "exception": false,
     "start_time": "2024-06-13T07:10:28.215093",
     "status": "completed"
    },
    "tags": []
   },
   "outputs": [],
   "source": [
    "# Instantiate GridSearchCV\n",
    "grid_search = GridSearchCV(estimator=rf_model, param_grid=param_grid, cv=5, scoring='neg_mean_squared_error')"
   ]
  },
  {
   "cell_type": "code",
   "execution_count": 70,
   "id": "9c22075e",
   "metadata": {
    "execution": {
     "iopub.execute_input": "2024-06-13T07:10:28.295311Z",
     "iopub.status.busy": "2024-06-13T07:10:28.294500Z",
     "iopub.status.idle": "2024-06-13T07:11:43.132508Z",
     "shell.execute_reply": "2024-06-13T07:11:43.131584Z"
    },
    "papermill": {
     "duration": 74.888419,
     "end_time": "2024-06-13T07:11:43.158490",
     "exception": false,
     "start_time": "2024-06-13T07:10:28.270071",
     "status": "completed"
    },
    "tags": []
   },
   "outputs": [
    {
     "data": {
      "text/html": [
       "<style>#sk-container-id-1 {color: black;background-color: white;}#sk-container-id-1 pre{padding: 0;}#sk-container-id-1 div.sk-toggleable {background-color: white;}#sk-container-id-1 label.sk-toggleable__label {cursor: pointer;display: block;width: 100%;margin-bottom: 0;padding: 0.3em;box-sizing: border-box;text-align: center;}#sk-container-id-1 label.sk-toggleable__label-arrow:before {content: \"▸\";float: left;margin-right: 0.25em;color: #696969;}#sk-container-id-1 label.sk-toggleable__label-arrow:hover:before {color: black;}#sk-container-id-1 div.sk-estimator:hover label.sk-toggleable__label-arrow:before {color: black;}#sk-container-id-1 div.sk-toggleable__content {max-height: 0;max-width: 0;overflow: hidden;text-align: left;background-color: #f0f8ff;}#sk-container-id-1 div.sk-toggleable__content pre {margin: 0.2em;color: black;border-radius: 0.25em;background-color: #f0f8ff;}#sk-container-id-1 input.sk-toggleable__control:checked~div.sk-toggleable__content {max-height: 200px;max-width: 100%;overflow: auto;}#sk-container-id-1 input.sk-toggleable__control:checked~label.sk-toggleable__label-arrow:before {content: \"▾\";}#sk-container-id-1 div.sk-estimator input.sk-toggleable__control:checked~label.sk-toggleable__label {background-color: #d4ebff;}#sk-container-id-1 div.sk-label input.sk-toggleable__control:checked~label.sk-toggleable__label {background-color: #d4ebff;}#sk-container-id-1 input.sk-hidden--visually {border: 0;clip: rect(1px 1px 1px 1px);clip: rect(1px, 1px, 1px, 1px);height: 1px;margin: -1px;overflow: hidden;padding: 0;position: absolute;width: 1px;}#sk-container-id-1 div.sk-estimator {font-family: monospace;background-color: #f0f8ff;border: 1px dotted black;border-radius: 0.25em;box-sizing: border-box;margin-bottom: 0.5em;}#sk-container-id-1 div.sk-estimator:hover {background-color: #d4ebff;}#sk-container-id-1 div.sk-parallel-item::after {content: \"\";width: 100%;border-bottom: 1px solid gray;flex-grow: 1;}#sk-container-id-1 div.sk-label:hover label.sk-toggleable__label {background-color: #d4ebff;}#sk-container-id-1 div.sk-serial::before {content: \"\";position: absolute;border-left: 1px solid gray;box-sizing: border-box;top: 0;bottom: 0;left: 50%;z-index: 0;}#sk-container-id-1 div.sk-serial {display: flex;flex-direction: column;align-items: center;background-color: white;padding-right: 0.2em;padding-left: 0.2em;position: relative;}#sk-container-id-1 div.sk-item {position: relative;z-index: 1;}#sk-container-id-1 div.sk-parallel {display: flex;align-items: stretch;justify-content: center;background-color: white;position: relative;}#sk-container-id-1 div.sk-item::before, #sk-container-id-1 div.sk-parallel-item::before {content: \"\";position: absolute;border-left: 1px solid gray;box-sizing: border-box;top: 0;bottom: 0;left: 50%;z-index: -1;}#sk-container-id-1 div.sk-parallel-item {display: flex;flex-direction: column;z-index: 1;position: relative;background-color: white;}#sk-container-id-1 div.sk-parallel-item:first-child::after {align-self: flex-end;width: 50%;}#sk-container-id-1 div.sk-parallel-item:last-child::after {align-self: flex-start;width: 50%;}#sk-container-id-1 div.sk-parallel-item:only-child::after {width: 0;}#sk-container-id-1 div.sk-dashed-wrapped {border: 1px dashed gray;margin: 0 0.4em 0.5em 0.4em;box-sizing: border-box;padding-bottom: 0.4em;background-color: white;}#sk-container-id-1 div.sk-label label {font-family: monospace;font-weight: bold;display: inline-block;line-height: 1.2em;}#sk-container-id-1 div.sk-label-container {text-align: center;}#sk-container-id-1 div.sk-container {/* jupyter's `normalize.less` sets `[hidden] { display: none; }` but bootstrap.min.css set `[hidden] { display: none !important; }` so we also need the `!important` here to be able to override the default hidden behavior on the sphinx rendered scikit-learn.org. See: https://github.com/scikit-learn/scikit-learn/issues/21755 */display: inline-block !important;position: relative;}#sk-container-id-1 div.sk-text-repr-fallback {display: none;}</style><div id=\"sk-container-id-1\" class=\"sk-top-container\"><div class=\"sk-text-repr-fallback\"><pre>GridSearchCV(cv=5, estimator=RandomForestRegressor(),\n",
       "             param_grid={&#x27;max_depth&#x27;: [None, 10, 20],\n",
       "                         &#x27;min_samples_leaf&#x27;: [1, 2, 4],\n",
       "                         &#x27;min_samples_split&#x27;: [2, 5, 10],\n",
       "                         &#x27;n_estimators&#x27;: [50, 100, 200]},\n",
       "             scoring=&#x27;neg_mean_squared_error&#x27;)</pre><b>In a Jupyter environment, please rerun this cell to show the HTML representation or trust the notebook. <br />On GitHub, the HTML representation is unable to render, please try loading this page with nbviewer.org.</b></div><div class=\"sk-container\" hidden><div class=\"sk-item sk-dashed-wrapped\"><div class=\"sk-label-container\"><div class=\"sk-label sk-toggleable\"><input class=\"sk-toggleable__control sk-hidden--visually\" id=\"sk-estimator-id-1\" type=\"checkbox\" ><label for=\"sk-estimator-id-1\" class=\"sk-toggleable__label sk-toggleable__label-arrow\">GridSearchCV</label><div class=\"sk-toggleable__content\"><pre>GridSearchCV(cv=5, estimator=RandomForestRegressor(),\n",
       "             param_grid={&#x27;max_depth&#x27;: [None, 10, 20],\n",
       "                         &#x27;min_samples_leaf&#x27;: [1, 2, 4],\n",
       "                         &#x27;min_samples_split&#x27;: [2, 5, 10],\n",
       "                         &#x27;n_estimators&#x27;: [50, 100, 200]},\n",
       "             scoring=&#x27;neg_mean_squared_error&#x27;)</pre></div></div></div><div class=\"sk-parallel\"><div class=\"sk-parallel-item\"><div class=\"sk-item\"><div class=\"sk-label-container\"><div class=\"sk-label sk-toggleable\"><input class=\"sk-toggleable__control sk-hidden--visually\" id=\"sk-estimator-id-2\" type=\"checkbox\" ><label for=\"sk-estimator-id-2\" class=\"sk-toggleable__label sk-toggleable__label-arrow\">estimator: RandomForestRegressor</label><div class=\"sk-toggleable__content\"><pre>RandomForestRegressor()</pre></div></div></div><div class=\"sk-serial\"><div class=\"sk-item\"><div class=\"sk-estimator sk-toggleable\"><input class=\"sk-toggleable__control sk-hidden--visually\" id=\"sk-estimator-id-3\" type=\"checkbox\" ><label for=\"sk-estimator-id-3\" class=\"sk-toggleable__label sk-toggleable__label-arrow\">RandomForestRegressor</label><div class=\"sk-toggleable__content\"><pre>RandomForestRegressor()</pre></div></div></div></div></div></div></div></div></div></div>"
      ],
      "text/plain": [
       "GridSearchCV(cv=5, estimator=RandomForestRegressor(),\n",
       "             param_grid={'max_depth': [None, 10, 20],\n",
       "                         'min_samples_leaf': [1, 2, 4],\n",
       "                         'min_samples_split': [2, 5, 10],\n",
       "                         'n_estimators': [50, 100, 200]},\n",
       "             scoring='neg_mean_squared_error')"
      ]
     },
     "execution_count": 70,
     "metadata": {},
     "output_type": "execute_result"
    }
   ],
   "source": [
    "# Perform Grid Search CV\n",
    "grid_search.fit(X_train, y_train)"
   ]
  },
  {
   "cell_type": "code",
   "execution_count": 71,
   "id": "5b99bcfa",
   "metadata": {
    "execution": {
     "iopub.execute_input": "2024-06-13T07:11:43.207344Z",
     "iopub.status.busy": "2024-06-13T07:11:43.206529Z",
     "iopub.status.idle": "2024-06-13T07:11:43.211464Z",
     "shell.execute_reply": "2024-06-13T07:11:43.210548Z"
    },
    "papermill": {
     "duration": 0.031523,
     "end_time": "2024-06-13T07:11:43.213597",
     "exception": false,
     "start_time": "2024-06-13T07:11:43.182074",
     "status": "completed"
    },
    "tags": []
   },
   "outputs": [
    {
     "name": "stdout",
     "output_type": "stream",
     "text": [
      "Best Parameters: {'max_depth': 20, 'min_samples_leaf': 4, 'min_samples_split': 10, 'n_estimators': 50}\n",
      "Best Score (neg_mean_squared_error): -206.37942975641158\n"
     ]
    }
   ],
   "source": [
    "# Best parameters and best score\n",
    "print(\"Best Parameters:\", grid_search.best_params_)\n",
    "print(\"Best Score (neg_mean_squared_error):\", grid_search.best_score_)"
   ]
  },
  {
   "cell_type": "code",
   "execution_count": 72,
   "id": "fe684bd0",
   "metadata": {
    "execution": {
     "iopub.execute_input": "2024-06-13T07:11:43.262143Z",
     "iopub.status.busy": "2024-06-13T07:11:43.261867Z",
     "iopub.status.idle": "2024-06-13T07:11:43.270555Z",
     "shell.execute_reply": "2024-06-13T07:11:43.269851Z"
    },
    "papermill": {
     "duration": 0.035134,
     "end_time": "2024-06-13T07:11:43.272468",
     "exception": false,
     "start_time": "2024-06-13T07:11:43.237334",
     "status": "completed"
    },
    "tags": []
   },
   "outputs": [],
   "source": [
    "# Use the best model for predictions\n",
    "best_rf_model = grid_search.best_estimator_\n",
    "y_pred_rf = best_rf_model.predict(X_test)"
   ]
  },
  {
   "cell_type": "code",
   "execution_count": 73,
   "id": "2ac5fef4",
   "metadata": {
    "execution": {
     "iopub.execute_input": "2024-06-13T07:11:43.321360Z",
     "iopub.status.busy": "2024-06-13T07:11:43.320601Z",
     "iopub.status.idle": "2024-06-13T07:11:43.326486Z",
     "shell.execute_reply": "2024-06-13T07:11:43.325594Z"
    },
    "papermill": {
     "duration": 0.032355,
     "end_time": "2024-06-13T07:11:43.328486",
     "exception": false,
     "start_time": "2024-06-13T07:11:43.296131",
     "status": "completed"
    },
    "tags": []
   },
   "outputs": [
    {
     "name": "stdout",
     "output_type": "stream",
     "text": [
      "11.240332316781153\n",
      "0.2688240259550888\n"
     ]
    }
   ],
   "source": [
    "print(mean_absolute_error(y_pred_rf, y_test))\n",
    "print(r2_score(y_pred_rf, y_test))"
   ]
  },
  {
   "cell_type": "code",
   "execution_count": 74,
   "id": "a2ff4314",
   "metadata": {
    "execution": {
     "iopub.execute_input": "2024-06-13T07:11:43.376555Z",
     "iopub.status.busy": "2024-06-13T07:11:43.376274Z",
     "iopub.status.idle": "2024-06-13T07:11:43.383439Z",
     "shell.execute_reply": "2024-06-13T07:11:43.382636Z"
    },
    "papermill": {
     "duration": 0.033369,
     "end_time": "2024-06-13T07:11:43.385372",
     "exception": false,
     "start_time": "2024-06-13T07:11:43.352003",
     "status": "completed"
    },
    "tags": []
   },
   "outputs": [
    {
     "data": {
      "text/plain": [
       "['students_marks_prediction_model.pkl']"
      ]
     },
     "execution_count": 74,
     "metadata": {},
     "output_type": "execute_result"
    }
   ],
   "source": [
    "import joblib as jl\n",
    "jl.dump(model, 'students_marks_prediction_model.pkl')"
   ]
  }
 ],
 "metadata": {
  "kaggle": {
   "accelerator": "none",
   "dataSources": [
    {
     "datasetId": 4489100,
     "sourceId": 7691987,
     "sourceType": "datasetVersion"
    }
   ],
   "dockerImageVersionId": 30732,
   "isGpuEnabled": false,
   "isInternetEnabled": true,
   "language": "python",
   "sourceType": "notebook"
  },
  "kernelspec": {
   "display_name": "Python 3",
   "language": "python",
   "name": "python3"
  },
  "language_info": {
   "codemirror_mode": {
    "name": "ipython",
    "version": 3
   },
   "file_extension": ".py",
   "mimetype": "text/x-python",
   "name": "python",
   "nbconvert_exporter": "python",
   "pygments_lexer": "ipython3",
   "version": "3.10.13"
  },
  "papermill": {
   "default_parameters": {},
   "duration": 99.856781,
   "end_time": "2024-06-13T07:11:43.928620",
   "environment_variables": {},
   "exception": null,
   "input_path": "__notebook__.ipynb",
   "output_path": "__notebook__.ipynb",
   "parameters": {},
   "start_time": "2024-06-13T07:10:04.071839",
   "version": "2.5.0"
  }
 },
 "nbformat": 4,
 "nbformat_minor": 5
}
